{
 "cells": [
  {
   "cell_type": "code",
   "execution_count": 1,
   "metadata": {},
   "outputs": [],
   "source": [
    "import pandas as pd"
   ]
  },
  {
   "cell_type": "code",
   "execution_count": 1,
   "metadata": {},
   "outputs": [
    {
     "ename": "TypeError",
     "evalue": "unsupported operand type(s) for +: 'Scalar' and 'Scalar'",
     "output_type": "error",
     "traceback": [
      "\u001b[1;31m---------------------------------------------------------------------------\u001b[0m",
      "\u001b[1;31mTypeError\u001b[0m                                 Traceback (most recent call last)",
      "\u001b[1;32mc:\\Users\\STAFF\\Desktop\\Git_Repos\\Health_Analytics\\K_Means\\lab4.ipynb Cell 2\u001b[0m line \u001b[0;36m1\n\u001b[0;32m     <a href='vscode-notebook-cell:/c%3A/Users/STAFF/Desktop/Git_Repos/Health_Analytics/K_Means/lab4.ipynb#W1sZmlsZQ%3D%3D?line=9'>10</a>\u001b[0m a \u001b[39m=\u001b[39m Scalar(\u001b[39m3\u001b[39m)\n\u001b[0;32m     <a href='vscode-notebook-cell:/c%3A/Users/STAFF/Desktop/Git_Repos/Health_Analytics/K_Means/lab4.ipynb#W1sZmlsZQ%3D%3D?line=10'>11</a>\u001b[0m b \u001b[39m=\u001b[39m Scalar(\u001b[39m-\u001b[39m\u001b[39m3\u001b[39m)\n\u001b[1;32m---> <a href='vscode-notebook-cell:/c%3A/Users/STAFF/Desktop/Git_Repos/Health_Analytics/K_Means/lab4.ipynb#W1sZmlsZQ%3D%3D?line=11'>12</a>\u001b[0m c \u001b[39m=\u001b[39m a\u001b[39m+\u001b[39;49mb\n",
      "\u001b[1;31mTypeError\u001b[0m: unsupported operand type(s) for +: 'Scalar' and 'Scalar'"
     ]
    }
   ],
   "source": []
  },
  {
   "cell_type": "markdown",
   "metadata": {},
   "source": [
    "## **Table of Contents**\n",
    "- [Introduction](#1)\n",
    "  * [Data Dictionary](#2)\n",
    "  * [Problem statement](#3)\n",
    "  * [Objective of the analysis](#4)\n",
    "  * [Table of Contents](#5)\n",
    "\n",
    "\n",
    "- [Imports](#7)\n",
    "  * [Importing libraries](#9)\n",
    "  * [Loading Dataset](#9)\n",
    "  * [Dataset Overview](#9)\n",
    "  \n",
    "- [Exploratory Data Analysis (EDA)](#10)\n",
    "  * [Dataset Overview (Continued)](#9)\n",
    "  * [Visualizations](#9)\n",
    "    * [(i) Univariate Analysis](#9)\n",
    "    * [Bivariate Analysis](#9)\n",
    "    * [Correlation Analysis](#9)\n",
    "  * [Missing Values](#9)\n",
    "- [Preprocessing](#10)\n",
    "  * [Removing unecessary columns](#9)\n",
    "\n",
    "  * [Handling Missing Values](#9)\n",
    "  * [Feature Engineering](#9)\n",
    "  * [Encoding Categorical Variables](#9)\n",
    "  * [Feature Scaling](#9)\n",
    "  * [Data Splitting](#9)\n",
    "- [Modelling](#10)\n",
    "  * [Model Training](#9)\n",
    "  * [Model Evaluation](#9)\n",
    "  * [Hyperparameter Tuning](#9)\n",
    "- [Conclusion](#10)"
   ]
  }
 ],
 "metadata": {
  "kernelspec": {
   "display_name": "Python 3",
   "language": "python",
   "name": "python3"
  },
  "language_info": {
   "codemirror_mode": {
    "name": "ipython",
    "version": 3
   },
   "file_extension": ".py",
   "mimetype": "text/x-python",
   "name": "python",
   "nbconvert_exporter": "python",
   "pygments_lexer": "ipython3",
   "version": "3.11.4"
  },
  "orig_nbformat": 4
 },
 "nbformat": 4,
 "nbformat_minor": 2
}
