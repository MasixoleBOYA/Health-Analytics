{
 "cells": [
  {
   "cell_type": "markdown",
   "id": "c2943c05",
   "metadata": {},
   "source": [
    "# Wits Health Analytics: Lab 5\n",
    "### Drug database exploration"
   ]
  },
  {
   "cell_type": "markdown",
   "id": "38740c0b",
   "metadata": {},
   "source": []
  },
  {
   "cell_type": "markdown",
   "id": "58a5ea51",
   "metadata": {},
   "source": [
    "\n",
    "\n",
    "# __Introduction__\n",
    "\n",
    "## __Problem Statement__\n",
    "#### The objective of this analysis is to gain a deeper insight into the dataset, exploring the described drug attributes. Specifically, we are looking at things like how strong a medicine is, if a doctor needs to prescribe it, how safe it is during pregnancy, how the law sees its use, if it interacts with alcohol, and what people think about it. We also want to see how medicines that could be easily misused might affect public health. Our goal is to give doctors, people who make rules, and others important information about medicines and how they can affect patients.\n",
    "##### The dataset can be found at:https://www.kaggle.com/datasets/jithinanievarghese/drugs-related-to-common-treatments/\n",
    "\n",
    "## __Data Dictionary__\n",
    "#### The dataset has several key attributes that aid in understanding the properties of drugs and their relationships with medical conditions. Here is a brief data dictionary outlining the crucial features:\n",
    "\n",
    "__drug_name:__ The name of the drug.\n",
    "__medical_condition:__ The associated medical condition for the drug.\n",
    "__activity_percentage:__ Activity level of the drug.\n",
    "__rx_otc:__ Prescription status of the drug (Rx = Prescription Needed, OTC = Over-the-counter).\n",
    "__pregnancy_category:__ Pregnancy categorization for the drug.\n",
    "__csa:__ Controlled Substances Act (CSA) schedule for the drug.\n",
    "__alcohol:__ Interaction of the drug with alcohol.\n",
    "__rating:__ User rating for the drug (1 = least effective, 10 = most effective).\n",
    "__no_of_reviews:__ Number of reviews contributing to the rating.\n",
    "__drug_link:__ Link to additional drug information.\n",
    "__medical_condition_description:__ Description of the medical condition associated with the drug.\n",
    "__medical_condition_url:__ URL for further details about the medical condition."
   ]
  },
  {
   "cell_type": "markdown",
   "id": "92278f98",
   "metadata": {},
   "source": [
    "Based on the dataset from Kaggle: [Drugs Related to Medical Conditions](https://www.kaggle.com/datasets/jithinanievarghese/drugs-related-to-common-treatments/)"
   ]
  },
  {
   "cell_type": "code",
   "execution_count": 43,
   "id": "12df174e",
   "metadata": {},
   "outputs": [],
   "source": [
    "import pandas as pd"
   ]
  },
  {
   "cell_type": "markdown",
   "id": "4ab630f8",
   "metadata": {},
   "source": [
    "## Questions\n",
    "Instructions: \n",
    "Answer each question in code and text cells below it (mark count indicated in brackets)"
   ]
  },
  {
   "cell_type": "markdown",
   "id": "1827808b",
   "metadata": {},
   "source": [
    "### 1. Basic Preprocessing "
   ]
  },
  {
   "cell_type": "markdown",
   "id": "c09c0697",
   "metadata": {},
   "source": [
    "1.1) Merge the two datasets (2)"
   ]
  },
  {
   "cell_type": "code",
   "execution_count": 44,
   "id": "9ad04c12",
   "metadata": {},
   "outputs": [
    {
     "name": "stdout",
     "output_type": "stream",
     "text": [
      "CONDITIONS SHAPE: (3959, 3)\n",
      "DRUGS PER CONDITION SHAPE: (3959, 10)\n"
     ]
    }
   ],
   "source": [
    "df_conditions = pd.read_csv('C:/Users/STAFF/Desktop/Git_Repos/Health_Analytics/EDA/conditions.csv')\n",
    "df_drugs_per_condition = pd.read_csv('C:/Users/STAFF/Desktop/Git_Repos/Health_Analytics/EDA/drugs_per_condition.csv')\n",
    "print(f\"CONDITIONS SHAPE: {df_conditions.shape}\")\n",
    "print(f\"DRUGS PER CONDITION SHAPE: {df_drugs_per_condition.shape}\")"
   ]
  },
  {
   "cell_type": "code",
   "execution_count": 45,
   "id": "189d0e04",
   "metadata": {},
   "outputs": [
    {
     "name": "stdout",
     "output_type": "stream",
     "text": [
      "MERGED DATAFRAME SHAPE: (647427, 12)\n"
     ]
    }
   ],
   "source": [
    "df = df_drugs_per_condition.merge(df_conditions, on= ['medical_condition'])\n",
    "print(f\"MERGED DATAFRAME SHAPE: {df.shape}\")"
   ]
  },
  {
   "cell_type": "code",
   "execution_count": 46,
   "id": "c5bb9a9a",
   "metadata": {},
   "outputs": [
    {
     "name": "stdout",
     "output_type": "stream",
     "text": [
      "The common column 'medical_condition' has exactly the same values in both datasets.\n"
     ]
    }
   ],
   "source": [
    "conditions_unique_values = set(df_conditions['medical_condition'].unique())\n",
    "drugs_per_condition_unique_values = set(df_drugs_per_condition['medical_condition'].unique())\n",
    "\n",
    "# Check if the unique values are the same in both datasets\n",
    "if conditions_unique_values == drugs_per_condition_unique_values:\n",
    "    print(\"The common column 'medical_condition' has exactly the same values in both datasets.\")\n",
    "else:\n",
    "    print(\"The common column 'medical_condition' does not have the same values in both datasets.\")"
   ]
  },
  {
   "cell_type": "code",
   "execution_count": 47,
   "id": "759d4bf6",
   "metadata": {},
   "outputs": [
    {
     "data": {
      "text/html": [
       "<div>\n",
       "<style scoped>\n",
       "    .dataframe tbody tr th:only-of-type {\n",
       "        vertical-align: middle;\n",
       "    }\n",
       "\n",
       "    .dataframe tbody tr th {\n",
       "        vertical-align: top;\n",
       "    }\n",
       "\n",
       "    .dataframe thead th {\n",
       "        text-align: right;\n",
       "    }\n",
       "</style>\n",
       "<table border=\"1\" class=\"dataframe\">\n",
       "  <thead>\n",
       "    <tr style=\"text-align: right;\">\n",
       "      <th></th>\n",
       "      <th>drug_name</th>\n",
       "      <th>medical_condition</th>\n",
       "      <th>activity</th>\n",
       "      <th>rx_otc</th>\n",
       "      <th>pregnancy_category</th>\n",
       "      <th>csa</th>\n",
       "      <th>alcohol</th>\n",
       "      <th>rating</th>\n",
       "      <th>no_of_reviews</th>\n",
       "      <th>drug_link</th>\n",
       "      <th>medical_condition_description</th>\n",
       "      <th>medical_condition_url</th>\n",
       "    </tr>\n",
       "  </thead>\n",
       "  <tbody>\n",
       "    <tr>\n",
       "      <th>0</th>\n",
       "      <td>doxycycline</td>\n",
       "      <td>Acne</td>\n",
       "      <td>87%</td>\n",
       "      <td>Rx</td>\n",
       "      <td>D</td>\n",
       "      <td>N</td>\n",
       "      <td>X</td>\n",
       "      <td>6.8</td>\n",
       "      <td>760.0</td>\n",
       "      <td>https://www.drugs.com/doxycycline.html</td>\n",
       "      <td>Acne Other names: Acne Vulgaris; Blackheads; B...</td>\n",
       "      <td>https://www.drugs.com/condition/acne.html</td>\n",
       "    </tr>\n",
       "    <tr>\n",
       "      <th>1</th>\n",
       "      <td>doxycycline</td>\n",
       "      <td>Acne</td>\n",
       "      <td>87%</td>\n",
       "      <td>Rx</td>\n",
       "      <td>D</td>\n",
       "      <td>N</td>\n",
       "      <td>X</td>\n",
       "      <td>6.8</td>\n",
       "      <td>760.0</td>\n",
       "      <td>https://www.drugs.com/doxycycline.html</td>\n",
       "      <td>Acne Other names: Acne Vulgaris; Blackheads; B...</td>\n",
       "      <td>https://www.drugs.com/condition/acne.html</td>\n",
       "    </tr>\n",
       "    <tr>\n",
       "      <th>2</th>\n",
       "      <td>doxycycline</td>\n",
       "      <td>Acne</td>\n",
       "      <td>87%</td>\n",
       "      <td>Rx</td>\n",
       "      <td>D</td>\n",
       "      <td>N</td>\n",
       "      <td>X</td>\n",
       "      <td>6.8</td>\n",
       "      <td>760.0</td>\n",
       "      <td>https://www.drugs.com/doxycycline.html</td>\n",
       "      <td>Acne Other names: Acne Vulgaris; Blackheads; B...</td>\n",
       "      <td>https://www.drugs.com/condition/acne.html</td>\n",
       "    </tr>\n",
       "    <tr>\n",
       "      <th>3</th>\n",
       "      <td>doxycycline</td>\n",
       "      <td>Acne</td>\n",
       "      <td>87%</td>\n",
       "      <td>Rx</td>\n",
       "      <td>D</td>\n",
       "      <td>N</td>\n",
       "      <td>X</td>\n",
       "      <td>6.8</td>\n",
       "      <td>760.0</td>\n",
       "      <td>https://www.drugs.com/doxycycline.html</td>\n",
       "      <td>Acne Other names: Acne Vulgaris; Blackheads; B...</td>\n",
       "      <td>https://www.drugs.com/condition/acne.html</td>\n",
       "    </tr>\n",
       "    <tr>\n",
       "      <th>4</th>\n",
       "      <td>doxycycline</td>\n",
       "      <td>Acne</td>\n",
       "      <td>87%</td>\n",
       "      <td>Rx</td>\n",
       "      <td>D</td>\n",
       "      <td>N</td>\n",
       "      <td>X</td>\n",
       "      <td>6.8</td>\n",
       "      <td>760.0</td>\n",
       "      <td>https://www.drugs.com/doxycycline.html</td>\n",
       "      <td>Acne Other names: Acne Vulgaris; Blackheads; B...</td>\n",
       "      <td>https://www.drugs.com/condition/acne.html</td>\n",
       "    </tr>\n",
       "    <tr>\n",
       "      <th>...</th>\n",
       "      <td>...</td>\n",
       "      <td>...</td>\n",
       "      <td>...</td>\n",
       "      <td>...</td>\n",
       "      <td>...</td>\n",
       "      <td>...</td>\n",
       "      <td>...</td>\n",
       "      <td>...</td>\n",
       "      <td>...</td>\n",
       "      <td>...</td>\n",
       "      <td>...</td>\n",
       "      <td>...</td>\n",
       "    </tr>\n",
       "    <tr>\n",
       "      <th>647422</th>\n",
       "      <td>tirzepatide</td>\n",
       "      <td>Weight Loss</td>\n",
       "      <td>0%</td>\n",
       "      <td>Rx</td>\n",
       "      <td>NaN</td>\n",
       "      <td>N</td>\n",
       "      <td>X</td>\n",
       "      <td>5.7</td>\n",
       "      <td>10.0</td>\n",
       "      <td>https://www.drugs.com/mtm/tirzepatide.html</td>\n",
       "      <td>Weight Loss (Obesity/Overweight) More than hal...</td>\n",
       "      <td>https://www.drugs.com/condition/obesity.html</td>\n",
       "    </tr>\n",
       "    <tr>\n",
       "      <th>647423</th>\n",
       "      <td>tirzepatide</td>\n",
       "      <td>Weight Loss</td>\n",
       "      <td>0%</td>\n",
       "      <td>Rx</td>\n",
       "      <td>NaN</td>\n",
       "      <td>N</td>\n",
       "      <td>X</td>\n",
       "      <td>5.7</td>\n",
       "      <td>10.0</td>\n",
       "      <td>https://www.drugs.com/mtm/tirzepatide.html</td>\n",
       "      <td>Weight Loss (Obesity/Overweight) More than hal...</td>\n",
       "      <td>https://www.drugs.com/condition/obesity.html</td>\n",
       "    </tr>\n",
       "    <tr>\n",
       "      <th>647424</th>\n",
       "      <td>tirzepatide</td>\n",
       "      <td>Weight Loss</td>\n",
       "      <td>0%</td>\n",
       "      <td>Rx</td>\n",
       "      <td>NaN</td>\n",
       "      <td>N</td>\n",
       "      <td>X</td>\n",
       "      <td>5.7</td>\n",
       "      <td>10.0</td>\n",
       "      <td>https://www.drugs.com/mtm/tirzepatide.html</td>\n",
       "      <td>Weight Loss (Obesity/Overweight) More than hal...</td>\n",
       "      <td>https://www.drugs.com/condition/obesity.html</td>\n",
       "    </tr>\n",
       "    <tr>\n",
       "      <th>647425</th>\n",
       "      <td>tirzepatide</td>\n",
       "      <td>Weight Loss</td>\n",
       "      <td>0%</td>\n",
       "      <td>Rx</td>\n",
       "      <td>NaN</td>\n",
       "      <td>N</td>\n",
       "      <td>X</td>\n",
       "      <td>5.7</td>\n",
       "      <td>10.0</td>\n",
       "      <td>https://www.drugs.com/mtm/tirzepatide.html</td>\n",
       "      <td>Weight Loss (Obesity/Overweight) More than hal...</td>\n",
       "      <td>https://www.drugs.com/condition/obesity.html</td>\n",
       "    </tr>\n",
       "    <tr>\n",
       "      <th>647426</th>\n",
       "      <td>tirzepatide</td>\n",
       "      <td>Weight Loss</td>\n",
       "      <td>0%</td>\n",
       "      <td>Rx</td>\n",
       "      <td>NaN</td>\n",
       "      <td>N</td>\n",
       "      <td>X</td>\n",
       "      <td>5.7</td>\n",
       "      <td>10.0</td>\n",
       "      <td>https://www.drugs.com/mtm/tirzepatide.html</td>\n",
       "      <td>Weight Loss (Obesity/Overweight) More than hal...</td>\n",
       "      <td>https://www.drugs.com/condition/obesity.html</td>\n",
       "    </tr>\n",
       "  </tbody>\n",
       "</table>\n",
       "<p>647427 rows × 12 columns</p>\n",
       "</div>"
      ],
      "text/plain": [
       "          drug_name medical_condition activity rx_otc pregnancy_category csa  \\\n",
       "0       doxycycline              Acne      87%     Rx                  D   N   \n",
       "1       doxycycline              Acne      87%     Rx                  D   N   \n",
       "2       doxycycline              Acne      87%     Rx                  D   N   \n",
       "3       doxycycline              Acne      87%     Rx                  D   N   \n",
       "4       doxycycline              Acne      87%     Rx                  D   N   \n",
       "...             ...               ...      ...    ...                ...  ..   \n",
       "647422  tirzepatide       Weight Loss       0%     Rx                NaN   N   \n",
       "647423  tirzepatide       Weight Loss       0%     Rx                NaN   N   \n",
       "647424  tirzepatide       Weight Loss       0%     Rx                NaN   N   \n",
       "647425  tirzepatide       Weight Loss       0%     Rx                NaN   N   \n",
       "647426  tirzepatide       Weight Loss       0%     Rx                NaN   N   \n",
       "\n",
       "       alcohol  rating  no_of_reviews  \\\n",
       "0            X     6.8          760.0   \n",
       "1            X     6.8          760.0   \n",
       "2            X     6.8          760.0   \n",
       "3            X     6.8          760.0   \n",
       "4            X     6.8          760.0   \n",
       "...        ...     ...            ...   \n",
       "647422       X     5.7           10.0   \n",
       "647423       X     5.7           10.0   \n",
       "647424       X     5.7           10.0   \n",
       "647425       X     5.7           10.0   \n",
       "647426       X     5.7           10.0   \n",
       "\n",
       "                                         drug_link  \\\n",
       "0           https://www.drugs.com/doxycycline.html   \n",
       "1           https://www.drugs.com/doxycycline.html   \n",
       "2           https://www.drugs.com/doxycycline.html   \n",
       "3           https://www.drugs.com/doxycycline.html   \n",
       "4           https://www.drugs.com/doxycycline.html   \n",
       "...                                            ...   \n",
       "647422  https://www.drugs.com/mtm/tirzepatide.html   \n",
       "647423  https://www.drugs.com/mtm/tirzepatide.html   \n",
       "647424  https://www.drugs.com/mtm/tirzepatide.html   \n",
       "647425  https://www.drugs.com/mtm/tirzepatide.html   \n",
       "647426  https://www.drugs.com/mtm/tirzepatide.html   \n",
       "\n",
       "                            medical_condition_description  \\\n",
       "0       Acne Other names: Acne Vulgaris; Blackheads; B...   \n",
       "1       Acne Other names: Acne Vulgaris; Blackheads; B...   \n",
       "2       Acne Other names: Acne Vulgaris; Blackheads; B...   \n",
       "3       Acne Other names: Acne Vulgaris; Blackheads; B...   \n",
       "4       Acne Other names: Acne Vulgaris; Blackheads; B...   \n",
       "...                                                   ...   \n",
       "647422  Weight Loss (Obesity/Overweight) More than hal...   \n",
       "647423  Weight Loss (Obesity/Overweight) More than hal...   \n",
       "647424  Weight Loss (Obesity/Overweight) More than hal...   \n",
       "647425  Weight Loss (Obesity/Overweight) More than hal...   \n",
       "647426  Weight Loss (Obesity/Overweight) More than hal...   \n",
       "\n",
       "                               medical_condition_url  \n",
       "0          https://www.drugs.com/condition/acne.html  \n",
       "1          https://www.drugs.com/condition/acne.html  \n",
       "2          https://www.drugs.com/condition/acne.html  \n",
       "3          https://www.drugs.com/condition/acne.html  \n",
       "4          https://www.drugs.com/condition/acne.html  \n",
       "...                                              ...  \n",
       "647422  https://www.drugs.com/condition/obesity.html  \n",
       "647423  https://www.drugs.com/condition/obesity.html  \n",
       "647424  https://www.drugs.com/condition/obesity.html  \n",
       "647425  https://www.drugs.com/condition/obesity.html  \n",
       "647426  https://www.drugs.com/condition/obesity.html  \n",
       "\n",
       "[647427 rows x 12 columns]"
      ]
     },
     "execution_count": 47,
     "metadata": {},
     "output_type": "execute_result"
    }
   ],
   "source": [
    "df"
   ]
  },
  {
   "cell_type": "markdown",
   "id": "acdf1066",
   "metadata": {},
   "source": [
    "1.2) Activity column: change name to activity_percentage, remove % from column values, and retype as int (3)"
   ]
  },
  {
   "cell_type": "code",
   "execution_count": 48,
   "id": "ab0ded89",
   "metadata": {},
   "outputs": [
    {
     "data": {
      "text/plain": [
       "pandas.core.series.Series"
      ]
     },
     "execution_count": 48,
     "metadata": {},
     "output_type": "execute_result"
    }
   ],
   "source": [
    "df.rename(columns={'activity': 'activity_percentage'}, inplace=True)\n",
    "\n",
    "df['activity_percentage']=df['activity_percentage'].str.replace(\"%\", \"\")\n",
    "\n",
    "df['activity_percentage'] = df['activity_percentage'].astype(int)\n",
    "type(df['activity_percentage'])"
   ]
  },
  {
   "cell_type": "markdown",
   "id": "3eb44cf6",
   "metadata": {},
   "source": [
    "### 2. Basic Data Exploration"
   ]
  },
  {
   "cell_type": "markdown",
   "id": "2da06d2d",
   "metadata": {},
   "source": [
    "2.1) Plot (1) and characterise the distribution of activity_percentage (2)"
   ]
  },
  {
   "cell_type": "code",
   "execution_count": 55,
   "id": "7658bcca",
   "metadata": {},
   "outputs": [
    {
     "data": {
      "image/png": "[encoded data removed]",
      "text/plain": [
       "<Figure size 1000x600 with 1 Axes>"
      ]
     },
     "metadata": {},
     "output_type": "display_data"
    },
    {
     "name": "stdout",
     "output_type": "stream",
     "text": [
      "Mean: 5.712704289441126\n",
      "Median: 1.0\n",
      "Standard Deviation: 13.339124914002426\n"
     ]
    }
   ],
   "source": [
    "import matplotlib.pyplot as plt\n",
    "import seaborn as sns\n",
    "\n",
    "plt.figure(figsize=(10, 6))\n",
    "plt.hist(df['activity_percentage'], bins=20, edgecolor='black', alpha=0.7)\n",
    "plt.xlabel('Activity Percentage')\n",
    "plt.ylabel('Frequency')\n",
    "plt.title('Distribution of Activity Percentage')\n",
    "plt.grid(False)\n",
    "plt.show()\n",
    " \n",
    "print(f\"Mean: {df['activity_percentage'].mean()}\")\n",
    "print(f\"Median: {df['activity_percentage'].median()}\")\n",
    "print(f\"Standard Deviation: {df['activity_percentage'].std()}\")\n"
   ]
  },
  {
   "cell_type": "markdown",
   "id": "c1cadeda",
   "metadata": {},
   "source": [
    "2.2) How many drugs are available for each medical condition? (2)"
   ]
  },
  {
   "cell_type": "code",
   "execution_count": 67,
   "id": "c0704a98",
   "metadata": {},
   "outputs": [
    {
     "name": "stdout",
     "output_type": "stream",
     "text": [
      "Medical Condition : Acne\n",
      "Number of the drugs available: 237 \n",
      "Namely: doxycycline, spironolactone, minocycline, Accutane, clindamycin, Aldactone, tretinoin, isotretinoin, Bactrim, Retin-A, Aczone, benzoyl peroxide, Differin, Epiduo, adapalene, cephalexin, Doryx, tetracycline, Septra, Solodyn, Tazorac, Vibramycin, Acticlate, benzoyl peroxide / clindamycin, Doxy 100, Keflex, sulfamethoxazole / trimethoprim, Benzaclin, Monodox, Targadox, Adoxa, Adoxa CK, Adoxa Pak, Adoxa TT, Avidoxy, Bactrim DS, Cleocin T, Clindagel, Doryx MPC, erythromycin, Morgidox, Oraxyl, Claravis, Clinda-Derm, Evoclin, Minocin, Yaz, adapalene / benzoyl peroxide, Clindacin ETZ, Clindacin P, Clindacin PAC, ClindaReach Pledget, Clindets, Milk of Magnesia, Septra DS, Yasmin, Ziana, Absorica, Acanya, Amnesteem, azelaic acid, Co-trimoxazole, dapsone, Duac, Emcin Clear, Epiduo Forte, Erygel, Ery Pads, Myorisan, Onexton, Phillips' Milk of Magnesia, salicylic acid, Spotex, Theramycin Z, Absorica LD, Achromycin V, Acne Treatment, Acnex, Ala-Tet, Amzeeq, Atralin, Avita, Azelex, Benzamycin, benzoyl peroxide / erythromycin, benzoyl peroxide / sulfur, Beyaz, Brodspec, Cleeravue-M, clindamycin / tretinoin, drospirenone / ethinyl estradiol, Dynacin, Estarylla, ethinyl estradiol / norgestimate, Gianvi, Loryna, magnesium hydroxide, Minolira, Ocella, PanOxyl, PanOxyl 10% Acne Foaming Wash, Seysara, Sotret, sulfacetamide sodium/sulfur, tazarotene, Tri-Previfem, Tri-Sprintec, Veltin, Ximino, Zenatane, Acetoxyl, Acne-10, Acne-Clear, Acnevir, Acnomel, Acnomel Acne Mask, Acnomel BP 5, Aklief, Aktipak, Akurza, Aliclen, Alquam-X Acne Therapy Gel, Altabax, Altreno, Arazlo, Avar, Avar-E, Avar-E Green, Avar-E LS, Avar Cleanser, Avar LS, Avar LS Cleanser, Benzac, Benzac AC, Benzac AC Wash, Benzac W, Benzagel, Benzagel Wash, Benzamycin Pak, Benzashave, BenzEFoam Ultra, BenzePro, Benziq, benzoyl peroxide / hydrocortisone, benzoyl peroxide / salicylic acid, benzoyl peroxide / tretinoin, Binora, BP 10-Wash, BPO 6 Foaming Cloths, BPO Gel, BP Wash, Brevoxyl, Brevoxyl Acne Wash Kit, CeraVe SA Renewing, Clarifoam EF, clascoterone, Cleanse & Treat, Cleanse & Treat Plus, Clearskin, Compound W, DermalZone, DHS Salicylic Acid 3%, drospirenone / ethinyl estradiol / levomefolate calcium, Dulcolax Milk of Magnesia, Durasal, Enzoclear Foam, ethinyl estradiol / norethindrone, Ex-Lax Milk of Magnesia, Fabior, Fostex, Fostex Medicated, Fostex Medicated Cleansing Cream, Fostex Wash 10%, Hydrisalic, Inova, Inova 4/1, Inova 8/2, Jasmiel, Liquimat Light, Liquimat Medium, Lo-Zumandimine, Meted, Mono-Linyah, Neuac, Neutrogena Clear Pore Cleanser/Mask, Neutrogena Rapid Clear Stubborn Acne, Nikki, Oscion, Oxy-10, Oxy Daily Wash, P & S, PanOxyl 4% Acne Creamy Wash, Pernox, Persa-Gel, Plexion, Propa pH Acne Med Cleansing, R A Acne, Resinol, resorcinol / sulfur, resorcinol, retapamulin, Riax, Sal-Plant Gel, Salactic Film, Salex, salicylic acid/sulfur, Salvax, sarecycline, SAStid, Scalpicin Scalp Relief, Sebulex, SoluCLENZ Rx, SSS 10-4, SSS 10-5, SSS Cleanser, Stri-Dex, Stridex Body Focus, Stridex Maximum Strength, Sulfacleanse 8/4, Sulfoam, sulfur, Sulpho-Lac Soap, Sumadan, Sumaxin, Suphera, Syeda, Tinamed Plantar, Tri-Estarylla, Tri-Linyah, Tri-Lo-Marzia, trifarotene, Twyneo, Vanoxide-HC, Winlevi, Z-Clinz 10, Zarah, Zumandimine\n",
      "\n",
      "Medical Condition : ADHD\n",
      "Number of the drugs available: 55 \n",
      "Namely: Vyvanse, Adderall, Adderall XR, Concerta, lisdexamfetamine, Daytrana, Quillivant XR, amantadine, Cotempla XR-ODT, Jornay PM, methylphenidate, QuilliChew ER, Azstarys, Qelbree, Strattera, Dexedrine, amphetamine / dextroamphetamine, Ritalin, dextroamphetamine, bupropion, clonidine, Intuniv, Desoxyn, guanfacine, Focalin, atomoxetine, Focalin XR, amphetamine, Ritalin LA, Kapvay, Methylin, dexmethylphenidate, methamphetamine, modafinil, Metadate CD, Methylin ER, omega-3 polyunsaturated fatty acids, ProCentra, selegiline, Zenzedi, Adhansia XR, Aptensio XR, armodafinil, desvenlafaxine, Evekeo, Mydayis, Relexxii, Adzenys ER, Adzenys XR-ODT, desipramine, Dyanavel XR, Evekeo ODT, imipramine, dexmethylphenidate / serdexmethylphenidate, viloxazine\n",
      "\n",
      "Medical Condition : AIDS/HIV\n",
      "Number of the drugs available: 109 \n",
      "Namely: Truvada, Biktarvy, Triumeq, Genvoya, Stribild, Atripla, Descovy, Norvir, Isentress, Dovato, Tivicay, abacavir / dolutegravir / lamivudine, Prezista, bictegravir / emtricitabine / tenofovir alafenamide, cobicistat / elvitegravir / emtricitabine / tenofovir, Cabenuva, dolutegravir / lamivudine, emtricitabine / tenofovir alafenamide, Complera, Reyataz, Epzicom, ritonavir, lamivudine, tenofovir, Viread, dolutegravir, Kaletra, Epivir, Intelence, Sustiva, abacavir, efavirenz / emtricitabine / tenofovir, emtricitabine / tenofovir, darunavir, efavirenz, Odefsey, raltegravir, abacavir / lamivudine, Prezcobix, Viramune, Combivir, Ziagen, zidovudine, atazanavir, emtricitabine, Emtriva, Edurant, Lexiva, nevirapine, Retrovir, Selzentry, Juluca, Symtuza, Trizivir, Epivir-HBV, etravirine, Isentress HD, lamivudine / tenofovir, lopinavir / ritonavir, maraviroc, Tivicay PD, Viramune XR, AccessPak for HIV PEP Basic, Delstrigo, efavirenz / lamivudine / tenofovir, emtricitabine / rilpivirine / tenofovir, Evotaz, Fuzeon, lamivudine / zidovudine, Pifeltro, Viracept, abacavir / lamivudine / zidovudine, Aptivus, Cimduo, cobicistat / darunavir, cobicistat / elvitegravir / emtricitabine / tenofovir alafenamide, cobicistat, doravirine, elvitegravir, enfuvirtide, ibalizumab, immune globulin intravenous, Invirase, nelfinavir, rilpivirine, Rukobia, saquinavir, Symfi, Symfi Lo, Temixys, Trogarzo, Tybost, AccessPak for HIV PEP Expanded with Kaletra, AccessPak for HIV PEP Expanded with Viracept, atazanavir / cobicistat, cabotegravir / rilpivirine, cabotegravir, cobicistat / darunavir / emtricitabine / tenofovir alafenamide, dolutegravir / rilpivirine, doravirine / lamivudine / tenofovir, emtricitabine / lopinavir / ritonavir / tenofovir, emtricitabine / nelfinavir / tenofovir, emtricitabine / rilpivirine / tenofovir alafenamide, fosamprenavir, fostemsavir, lamivudine / nevirapine / zidovudine, tipranavir, Triumeq PD, Vocabria\n",
      "\n",
      "Medical Condition : Allergies\n",
      "Number of the drugs available: 14 \n",
      "Namely: hydroxyzine, levocetirizine, loratadine, Xyzal, doxylamine, corticotropin, Acthar, chlorpheniramine / ibuprofen / phenylephrine, dexbrompheniramine, Ala-Hist IR, dexbrompheniramine / phenylephrine, Equaline Sleep Aid, Equate Sleep Aid, H.P. Acthar Gel\n",
      "\n",
      "Medical Condition : Alzheimer's\n",
      "Number of the drugs available: 27 \n",
      "Namely: Aricept, donepezil, Namenda, memantine, etanercept, Exelon, galantamine, Namenda XR, rivastigmine, Aricept ODT, Namzaric, vitamin e, donepezil / memantine, Razadyne, Razadyne ER, Adlarity, Hydergine, Alpha E, ergoloid mesylates, Aduhelm, Aqua Gem-E, Aquasol E, E-400 Clear, E-600, E-Gems, E Pherol, aducanumab\n",
      "\n",
      "Medical Condition : Angina\n",
      "Number of the drugs available: 71 \n",
      "Namely: aspirin, nitroglycerin, Ranexa, metoprolol, isosorbide mononitrate, amlodipine, Nitrostat, ranolazine, enoxaparin, isosorbide dinitrate, atenolol, carvedilol, Norvasc, Lopressor, Bayer Aspirin, Coreg, Toprol-XL, amlodipine / atorvastatin, Ecotrin, propranolol, Easprin, Nitrolingual Pumpspray, verapamil, Bayer Aspirin Regimen, Caduet, Aspir-Low, Katerzia, Lovenox, Norliqva, Arthritis Pain, Ascriptin, Aspergum, Aspiritab, Aspirtab, Bayer Aspirin Extra Strength Plus, Ecpirin, Entercote, Genacote, Halfprin, Nitro-Dur, Norwich Aspirin, Tenormin, Vazalore, Coreg CR, Corgard, heparin, Inderal LA, Kapspargo Sprinkle, Nitro-Bid, Fragmin, nadolol, Nitro TD Patch-A, amyl nitrite, Angiomax, bivalirudin, Calan SR, dalteparin, Dilatrate-SR, eptifibatide, GoNitro, Integrilin, Isochron, IsoDitrate, Isordil Titradose, Minitran, Nitro-Time, NitroMist, timolol, Verelan, Verelan PM, Aspruzyo Sprinkle\n",
      "\n",
      "Medical Condition : Anxiety\n",
      "Number of the drugs available: 54 \n",
      "Namely: Xanax, clonazepam, alprazolam, lorazepam, buspirone, diazepam, Ativan, hydroxyzine, Lexapro, BuSpar, escitalopram, Valium, gabapentin, propranolol, Cymbalta, bupropion, Effexor XR, trazodone, duloxetine, Paxil, clonidine, venlafaxine, mirtazapine, paroxetine, Alprazolam Intensol, lamotrigine, tramadol, atenolol, risperidone, Tenormin, Tranxene, Lorazepam Intensol, clorazepate, doxepin, oxazepam, Paxil CR, amitriptyline / perphenazine, chlordiazepoxide, desvenlafaxine, Diazepam Intensol, Loreev XR, oxcarbazepine, Pexeva, phenytoin, prochlorperazine, amitriptyline / chlordiazepoxide, Compro, Corgard, meprobamate, nadolol, nefazodone, Tranxene T-Tab, trifluoperazine, vilazodone\n",
      "\n",
      "Medical Condition : Asthma\n",
      "Number of the drugs available: 45 \n",
      "Namely: Singulair, montelukast, prednisone, Trelegy Ellipta, Fasenra, Nucala, benralizumab, fluticasone / umeclidinium / vilanterol, mepolizumab, tezepelumab, Tezspire, Dulera, Atrovent, Breo Ellipta, ipratropium, methylprednisolone, Atrovent HFA, dexamethasone, Alvesco, levalbuterol, Ipratropium Inhalation Solution, Rayos, fluticasone / vilanterol, formoterol / mometasone, Medrol, MethylPREDNISolone Dose Pack, triamcinolone, Dexamethasone Intensol, Kenalog-40, Medrol Dosepak, Depo-Medrol, Solu-Medrol, Xopenex, Xopenex HFA, caffeine, ciclesonide, De-Sone LA, Dxevo, dyphylline / guaifenesin, Ipratropium Inhalation Aerosol, Cinqair, reslizumab, salbutamol, Xopenex Concentrate, Difil-G Forte\n",
      "\n",
      "Medical Condition : Bipolar Disorder\n",
      "Number of the drugs available: 60 \n",
      "Namely: Lamictal, lamotrigine, Latuda, Seroquel, Abilify, topiramate, Vraylar, lithium, lurasidone, Abilify Maintena, cariprazine, Caplyta, lumateperone, Lybalvi, quetiapine, Depakote, gabapentin, bupropion, clonazepam, Seroquel XR, divalproex sodium, Risperdal, Geodon, oxcarbazepine, sertraline, Zyprexa, risperidone, aripiprazole, Depakote ER, olanzapine, Saphris, venlafaxine, citalopram, carbamazepine, duloxetine, escitalopram, ziprasidone, clonidine, Symbyax, valproic acid, armodafinil, fluoxetine / olanzapine, Lamictal ODT, levetiracetam, Lithobid, Zyprexa Zydis, asenapine, desvenlafaxine, Equetro, iloperidone, Lamictal CD, paliperidone, perphenazine, Risperdal Consta, tiagabine, verapamil, Abilify MyCite, Depakote Sprinkles, Zyprexa Intramuscular, olanzapine / samidorphan\n",
      "\n",
      "Medical Condition : Bronchitis\n",
      "Number of the drugs available: 91 \n",
      "Namely: Mucinex, azithromycin, Azithromycin Dose Pack, doxycycline, amoxicillin, guaifenesin, levofloxacin, Augmentin, Levaquin, Zithromax, amoxicillin / clavulanate, clarithromycin, cefdinir, ciprofloxacin, Amoxil, cefuroxime, Avelox, Cipro, Bactrim, erythromycin, sulfamethoxazole / trimethoprim, Bactrim DS, Ceftin, ceftriaxone, Apo-Amoxi, beclomethasone, Doxy 100, moxifloxacin, cefixime, Mucinex Maximum Strength, Vibramycin, Cipro I.V., Cipro XR, Doryx, Doryx MPC, Monodox, Morgidox, Oraxyl, Robafen, Septra DS, Augmentin XR, Biaxin XL, cefpodoxime, cefprozil, Ery-Tab, Guaifenex G, Septra, Suprax, tetracycline, Achromycin V, Ala-Tet, Altarussin, Amibid LA, Amoclan, ampicillin, Balminil Expectorant, Benylin E, Bidex-400, Brodspec, Cefzil, Co-trimoxazole, dicloxacillin, Drituss G, E.E.S. Granules, Eryc, EryPed, Erythrocin, Erythrocin Lactobionate, Fenesin IR, Floxin, gemifloxacin, Guaifenex LA, Guiatuss, Hytuss, Mucinex for Kids, ofloxacin, PCE Dispertab, Scot-Tussin Expectorant, Sulfatrim Pediatric, Tussin Expectorant, Xpect, Zinacef, Avelox I.V., cefaclor, cilastatin / imipenem, Difil-G Forte, Dycill, Dynapen, dyphylline / guaifenesin, Factive, Primaxin IV\n",
      "\n",
      "Medical Condition : Cancer\n",
      "Number of the drugs available: 20 \n",
      "Namely: carboplatin, Leukeran, chlorambucil, fluorouracil, doxorubicin, etoposide, cyclophosphamide, vincristine, Cosmegen, Etopophos, Ifex, Toposar, vinblastine, Hycamtin, ifosfamide, dactinomycin, fludarabine, Tepadina, thiotepa, topotecan\n",
      "\n",
      "Medical Condition : Cholesterol\n",
      "Number of the drugs available: 47 \n",
      "Namely: atorvastatin, simvastatin, Lipitor, Zetia, ezetimibe, Crestor, Repatha, alirocumab, evolocumab, Praluent, rosuvastatin, pravastatin, lovastatin, Zocor, gemfibrozil, Vytorin, Livalo, niacin, Altocor, Niaspan, Welchol, Altoprev, ezetimibe / simvastatin, fenofibric acid, Slo-Niacin, colesevelam, Ezallor, FloLipid, Lopid, pitavastatin, amlodipine / atorvastatin, atorvastatin / ezetimibe, fluvastatin, Lescol XL, mycophenolate mofetil, Niacor, Trilipix, Caduet, ezetimibe / rosuvastatin, Fibricor, inclisiran, Juxtapid, Leqvio, lomitapide, Lypqozet, Roszet, Zypitamag\n",
      "\n",
      "Medical Condition : Colds & Flu\n",
      "Number of the drugs available: 246 \n",
      "Namely: Benadryl, diphenhydramine, Vicks Nyquil D Cold and Flu Nighttime Relief, Vicks NyQuil Cold & Flu Nighttime Relief, chlorpheniramine, Coricidin HBP Cold & Flu, Vicks DayQuil Severe Cold & Flu, Benadryl Allergy, Vicks Dayquil Cold & Flu Relief, Vicks NyQuil Severe Cold & Flu, Promethazine DM, Tylenol Cold & Flu Severe, Vicks VapoRub, Coricidin HBP Maximum Strength Flu, Theraflu Nighttime Severe Cold & Cough, acetaminophen / chlorpheniramine / phenylephrine, Sudafed PE Cold & Cough, Banophen, Benadryl Allergy Plus Cold, pseudoephedrine / triprolidine, Tussionex Pennkinetic, Chlor-Trimeton, Diphedryl, Diphen, Complete Allergy Relief, Tylenol Cold, Allermax, Bronkaid, Dicopanol, Dytuss, Mucinex Fast-Max Night Time Cold & Flu, Scot-Tussin Allergy, Siladryl Allergy, Sudafed PE Sinus & Allergy, Twilite, Tylenol Cold Multi-Symptom Severe, Valu-Dryl, Vanamine PD, Virtussin DAC, Benadryl Allergy Plus Sinus Headache, Primatene, acetaminophen / dextromethorphan / doxylamine / pseudoephedrine, acetaminophen / dextromethorphan / guaifenesin / phenylephrine, acetaminophen / dextromethorphan / phenylephrine, Aller-Chlor, Allergy Relief, brompheniramine, Mucinex Fast-Max Severe Cold, Mucinex Fast-Max Severe Congestion & Cold, Sudafed PE Pressure+Pain+Cold, Sudafed PE Severe Cold, Tylenol Cold Max Day, Vicks NyQuil Cold & Flu Nighttime Relief (Alcohol Free), Wal-finate, acetaminophen / chlorpheniramine / dextromethorphan / pseudoephedrine, acetaminophen / chlorpheniramine, Actifed Cold and Allergy, Advil Allergy Sinus, Alka-Seltzer Plus Cold Formula Sparkling Original Effervescent Tablets, Aprodine, aspirin / chlorpheniramine / phenylephrine, C.P.M., camphor / eucalyptus / menthol, Cheratussin DAC, Chlo-Amine, Chlor-Mal, chlorpheniramine / hydrocodone, chlorpheniramine / phenylephrine, ChlorTan, codeine / guaifenesin / pseudoephedrine, Coricidin HBP Nighttime Multi-Symptom Cold, dextromethorphan / promethazine, diphenhydramine / phenylephrine, Drixoral Cold and Allergy, Ed-Chlortan, Ed A-Hist, Ed ChlorPed, Ed Chlor Ped Jr., ephedrine / guaifenesin, Robitussin Peak Cold Nighttime Nasal Relief, Theraflu Daytime Severe Cold & Cough, TussiCaps, Tylenol Cold Multi-Symptom Nighttime, A-Phedrin, acetaminophen / chlorpheniramine / dextromethorphan / phenylephrine, acetaminophen / dextromethorphan / doxylamine / phenylephrine, acetaminophen / dextromethorphan / doxylamine, acetaminophen / dextromethorphan / guaifenesin / pseudoephedrine, acetaminophen / dextromethorphan / pseudoephedrine, acetaminophen / diphenhydramine / phenylephrine, acetaminophen / pheniramine / phenylephrine, Advil Congestion Relief, Advil Sinus Congestion & Pain, Ala-Hist PE, Alka-Seltzer Plus-D Multi-Symptom Sinus & Cold Liquid Gels, Allergy Multi-Symptom, Biotussin DAC, Bromatan Plus, Bromax, camphor, Capron DM, Children's Triacting Night Time, Childrens Tylenol Cold Plus Cough, Chlo Hist, chlophedianol / pyrilamine, chlorpheniramine / ibuprofen / pseudoephedrine, chlorpheniramine / phenylephrine / pyrilamine, Cold Multi-Symptom (Nighttime), Comtrex Cold and Cough Maximum Strength, Comtrex Cold and Flu Maximum Strength Tablet, Contac Cold + Flu (Night Formula), Delsym Cough+ Cold Day Time, Delsym Cough+ Cold Night Time, Deltuss DMX, dexbrompheniramine / pseudoephedrine, dextromethorphan / phenylephrine / pyrilamine, dextromethorphan / phenylephrine / triprolidine, Diabetic Tussin Night Time Formula, Dologen, doxylamine / phenylephrine, Dristan Cold Multi Symptom Formula, Flutabs, ibuprofen / phenylephrine, Mucinex Children's Cold, Cough & Sore Throat, Ninjacof, Norel AD, phenylephrine / promethazine, Poly-Tussin AC, Poly Hist Forte, Robitussin Peak Cold Nighttime Cold + Flu, Ru-Hist Forte, Sinus & Allergy PE, Sudafed PE Head Congestion + Pain, Sudafed PE Pressure+Pain+Cough, Theraflu Flu & Sore Throat, Theraflu Nighttime Severe Cold & Cough Caplets, Theraflu Sinus & Cold, Theraflu Warming Relief Daytime Severe Cold & Cough, Theraflu Warming Relief Nighttime Severe Cold & Cough, Triaminic Multi-Symptom Fever, Tylenol Children’s Cold + Cough + Runny Nose, Tylenol Children’s Cold + Flu, Tylenol Cold & Cough Nighttime, Tylenol Cold Multi-Symptom Nighttime Liquid, Tylenol Plus Children's Cold, Tylenol Sinus Congestion & Pain Nighttime, Vicks VapoSteam, Abatuss DMX, acetaminophen / caffeine, acetaminophen / chlorpheniramine / dextromethorphan / guaifenesin, acetaminophen / chlorpheniramine / dextromethorphan, acetaminophen / dexbrompheniramine, acetaminophen / dextromethorphan / diphenhydramine, acetaminophen / dextromethorphan / triprolidine, acetaminophen / dextromethorphan, Advil Children's Allergy Sinus, Alahist D, Allan Tannate Pediatric, Allerest PE, Allerfrim, Ambifed CD, Aphedrid, Avedana Medicated Chest Rub, Benadryl Allergy Plus Congestion, BP Allergy JR, brompheniramine / codeine / phenylephrine, C-Tanna 12, camphor / menthol, Capron DMT, carbetapentane / chlorpheniramine, Children's Triacting, chlophedianol / dexbrompheniramine, chlophedianol / dexchlorpheniramine / pseudoephedrine, chlorcyclizine / phenylephrine, Chlorex-A 12, Chlorex A, chlorpheniramine / codeine / pseudoephedrine, chlorpheniramine / codeine, chlorpheniramine / phenylephrine / phenyltoloxamine, ChlorTan D, Clear Cough PM Multi-Symptom, Codar AR, codeine / phenylephrine / triprolidine, Codimal DM, Coditussin DAC, Comtrex Cold & Cough, Comtrex Nighttime Cold & Cough, Comtrex Severe Cold & Sinus, Conal, Conex, Contac Cold + Flu (Night) Cooling Relief Liquid, Dallergy, Dallergy Drops, Decorel Forte Plus, Delsym Cough & Sore Throat, Delsym Night Time Multi-Symptom, dexbrompheniramine / phenylephrine, dexchlorpheniramine / dextromethorphan / pseudoephedrine, dextromethorphan / diphenhydramine / phenylephrine, dextromethorphan / pyrilamine, Dixaphedrine, Duraflu, Dytan-D, Dytan-DM, Ed ChlorPed D, Excedrin Quick Tab, Excedrin Tension Headache, Fast Freeze, Flu & Severe Cold & Cough Daytime Powder, Freeze It, GNP Cold Relief Plus, Guaifen DAC, Histafed, Histex-AC, Histex-DM, Histex-PE, Lortuss EX, M-End PE, Medicidin-D, Mucinex Nightshift Cold & Flu, Nalex-A, Nalex A 12, NoHist LQ, Novahistine, Onset Forte, Panatuss PED, Phena-Plus, Phenagil, pheniramine / phenylephrine, phenylephrine / triprolidine, Robitussin Peak Cold Daytime Cold + Flu, SuTan-DM, Tannic-12 S, Theracaps Multi-Symptom Cough & Cold Reliever, Triaminic Softchews Cough & Sore Throat, Tricode GF, Tusnel C, Tuzistra XR, Tylenol Allergy Multi-Symptom, Tylenol Children’s Cold + Cough + Sore Throat, Tylenol Cough & Sore Throat Nightime, Tylenol Cough and Sore Throat Daytime, Vanacof, Vi-Sudo, Vicks Formula 44 Custom Care Cough & Cold PM, Zodryl DAC\n",
      "\n",
      "Medical Condition : Constipation\n",
      "Number of the drugs available: 65 \n",
      "Namely: docusate, MiraLAX, Colace, Dulcolax, bisacodyl, polyethylene glycol 3350, Dulcolax Stool Softener, Milk of Magnesia, magnesium oxide, magnesium citrate, Metamucil, Citrucel, Doc-Q-Lace, FiberCon, Phillips' Milk of Magnesia, DOK, Fleet Enema, GlycoLax, psyllium, magnesium hydroxide, Surfak, Enemeez Mini, Bisa-Lax, ClearLax, Colace Micro-Enema, Correctol, Diocto, Fleet Bisacodyl, Phillips' Cramp-free, Citrate of Magnesia, GaviLAX, Gialax, Mag-Oxide, PEG3350, Purelax, SunMark ClearLax, Uro-Mag, Citroma, glycerin, Hydrocil, Konsyl, methylcellulose, Reguloid, sodium biphosphate / sodium phosphate, Disposable Enema, Dulcolax Milk of Magnesia, Equalactin, Ex-Lax Milk of Magnesia, Fiber Lax, Fiber Laxative, Fleet Glycerin Suppositories Adult, Fleet Phospho Soda, mineral oil, Natural Fiber Therapy, OsmoPrep, Pedia-Lax Chewable Tablets, Pedia-Lax Liquid Glycerin Suppositories, polycarbophil, Sani-Supp, sorbitol, benzocaine / docusate, castor oil, Fibertab, Fleet Glycerin Suppositories Pediatric, potassium phosphate\n",
      "\n",
      "Medical Condition : COPD\n",
      "Number of the drugs available: 34 \n",
      "Namely: Symbicort, Trelegy Ellipta, prednisone, montelukast, Breztri Aerosphere, fluticasone / umeclidinium / vilanterol, Anoro Ellipta, Breo Ellipta, Daliresp, budesonide / formoterol, Tudorza Pressair, Incruse Ellipta, Stiolto Respimat, Rayos, aclidinium, fluticasone / vilanterol, levalbuterol, roflumilast, umeclidinium / vilanterol, Bevespi Aerosphere, Xopenex, olodaterol / tiotropium, Striverdi Respimat, Xopenex HFA, olodaterol, revefenacin, umeclidinium, Xopenex Concentrate, Yupelri, aclidinium / formoterol, Breyna, budesonide / formoterol / glycopyrrolate, Duaklir Pressair, formoterol / glycopyrrolate\n",
      "\n",
      "Medical Condition : Covid 19\n",
      "Number of the drugs available: 34 \n",
      "Namely: ivermectin, remdesivir, Pfizer-BioNTech COVID-19 Vaccine, Paxlovid, Actemra, tocilizumab, anakinra, Kineret, Moderna COVID-19 Vaccine, Olumiant, Veklury, molnupiravir, REGEN-COV, sotrovimab, bamlanivimab / etesevimab, Lagevrio, sars-cov-2 (covid-19) ad26 vaccine, recombinant, sars-cov-2 mrna (tozinameran) vaccine, bamlanivimab and etesevimab, baricitinib, bebtelovimab, Comirnaty, nirmatrelvir / ritonavir, sars-cov-2 (covid-19) mrna-1273 vaccine, Pfizer-BioNTech COVID-19 (5y-11y) Bivalent Booster Vaccine PF, Pfizer-BioNTech COVID-19 (12y+) Bivalent Booster Vaccine PF, sars-cov-2 (covid-19) mrna (tozinameran 5y-11y) bivalent booster vaccine, sars-cov-2 (covid-19) mrna (tozinameran 12y+) bivalent booster vaccine, sars-cov-2 (covid-19) mrna-1273 (bivalent booster) vaccine, sars-cov-2 (covid-19) nvx-cov2373 vaccine, recombinant, sars-cov-2 mrna (tozinameran 6m-4y) vaccine, sars-cov-2 mrna-1273 (6m-5y) vaccine, sars-cov-2 mrna-1273 (booster only) vaccine, Spikevax\n",
      "\n",
      "Medical Condition : Depression\n",
      "Number of the drugs available: 98 \n",
      "Namely: bupropion, Cymbalta, sertraline, Zoloft, Lexapro, citalopram, Prozac, fluoxetine, Wellbutrin XL, Celexa, escitalopram, venlafaxine, Trintellix, Abilify, duloxetine, Effexor XR, Rexulti, vortioxetine, brexpiprazole, lisdexamfetamine, trazodone, mirtazapine, Pristiq, Effexor, Paxil, paroxetine, Remeron, Wellbutrin SR, amitriptyline, Viibryd, alprazolam, lamotrigine, tramadol, Seroquel XR, aripiprazole, quetiapine, Deplin, nortriptyline, Zyprexa, Desyrel, Forfivo XL, Budeprion SR, desvenlafaxine, methylphenidate, Aplenzin, Desyrel Dividose, doxepin, Fetzima, lithium, olanzapine, risperidone, desipramine, Irenka, modafinil, nefazodone, fluvoxamine, imipramine, l-methylfolate, Methylin ER, niacin, Parnate, Paxil CR, Remeron SolTab, Symbyax, Abilify MyCite, amitriptyline / chlordiazepoxide, amoxapine, Aventyl Hydrochloride, clomipramine, Emsam, fluoxetine / olanzapine, ketamine, Nardil, Norpramin, Pamelor, Pexeva, phenelzine, tranylcypromine, vilazodone, Zyprexa Zydis, amitriptyline / perphenazine, armodafinil, atomoxetine, isocarboxazid, levomilnacipran, Marplan, paliperidone, selegiline, Tofranil, trimipramine, Vivactil, XaQuil XR, esketamine, L-Methylfolate Forte, protriptyline, Spravato, Surmontil, thyroid desiccated\n",
      "\n",
      "Medical Condition : Diabetes (Type 1)\n",
      "Number of the drugs available: 57 \n",
      "Namely: Humalog, Lantus, Novolog, insulin lispro, insulin aspart, Lantus SoloStar, Lyumjev, insulin detemir, Levemir, insulin aspart/insulin aspart protamine, Humalog KwikPen, NovoLog FlexPen, Apidra, insulin glargine, Basaglar, Tresiba, Toujeo SoloStar, Humulin N, Humulin R, Afrezza, Novolin R, Symlin, Humulin 70/30, insulin regular, Novolin N, Admelog, Fiasp, Novolin 70/30, Humalog Mix 75/25, insulin glulisine, Rezvoglar, Semglee, Toujeo Max SoloStar, Humulin R U-500 (Concentrated), NovoLog Mix 70/30, NovoLog PenFill, octreotide, pramlintide, insulin inhalation, rapid acting, insulin isophane, NovoLog Mix 70/30 FlexPen, Humulin N Pen, Humulin R U-500 KwikPen, insulin degludec, insulin isophane / insulin regular, Myxredlin, Humalog Mix 50/50, Humalog Mix 75/25 KwikPen, insulin lispro/insulin lispro protamine, Symlin Pen, SymlinPen 60, SymlinPen 120, Humalog Mix 50/50 KwikPen, Humulin 50/50, Humulin 70/30 Pen, ReliOn/Novolin 70/30, Tzield\n",
      "\n",
      "Medical Condition : Diabetes (Type 2)\n",
      "Number of the drugs available: 161 \n",
      "Namely: metformin, Farxiga, Trulicity, Rybelsus, dapagliflozin, dulaglutide, insulin aspart, insulin detemir, insulin lispro, Lyumjev, semaglutide, Soliqua, insulin aspart/insulin aspart protamine, insulin glargine / lixisenatide, Januvia, Mounjaro, Victoza, glipizide, glimepiride, Amaryl, Invokana, Lantus, Actos, Jardiance, Levemir, Janumet, Glucotrol, Byetta, Ozempic, Glumetza, liraglutide, pioglitazone, Tradjenta, Bydureon, Humalog, Lantus SoloStar, sitagliptin, Novolog, glyburide, metformin / sitagliptin, Onglyza, Riomet, GlipiZIDE XL, insulin glargine, NovoLog FlexPen, Prandin, Tresiba, canagliflozin, chromium picolinate, empagliflozin, exenatide, Humulin R, repaglinide, acarbose, alogliptin, Avandia, Basaglar, glimepiride / pioglitazone, Glucotrol XL, glyburide / metformin, Humalog KwikPen, Humulin N, Kombiglyze XR, linagliptin, Toujeo SoloStar, Welchol, Xigduo XR, Adlyxin, Admelog, Apidra, bromocriptine, colesevelam, Cycloset, dapagliflozin / metformin, DiaBeta, empagliflozin / metformin, glipizide / metformin, Glucovance, Glycron, Glynase, Glyset, Humulin 70/30, insulin regular, Janumet XR, Jentadueto, lixisenatide, metformin / pioglitazone, metformin / saxagliptin, miglitol, Nesina, Novolin 70/30, Novolin N, Novolin R, pramlintide, saxagliptin, Synjardy, Toujeo Max SoloStar, Xultophy, ActoPlus Met, Afrezza, albiglutide, alogliptin / metformin, alogliptin / pioglitazone, Bydureon BCise, canagliflozin / metformin, Cr-GTF, CRM, dapagliflozin / saxagliptin, Duetact, empagliflozin / linagliptin / metformin, empagliflozin / linagliptin, ertugliflozin / metformin, ertugliflozin / sitagliptin, ertugliflozin, Fiasp, Glynase PresTab, Glyxambi, Humalog Mix 50/50, Humalog Mix 50/50 KwikPen, Humalog Mix 75/25, Humalog Mix 75/25 KwikPen, Humulin 50/50, Humulin 70/30 Pen, Humulin N Pen, Humulin R U-500 (Concentrated), Humulin R U-500 KwikPen, insulin degludec / liraglutide, insulin degludec, insulin glulisine, insulin inhalation, rapid acting, insulin isophane / insulin regular, insulin isophane, insulin lispro/insulin lispro protamine, Invokamet, Invokamet XR, Jentadueto XR, Kazano, linagliptin / metformin, Myxredlin, nateglinide, NovoLog Mix 70/30, NovoLog Mix 70/30 FlexPen, NovoLog PenFill, Oseni, Qtern, ReliOn/Novolin 70/30, Rezvoglar, rosiglitazone, Segluromet, Semglee, Starlix, Steglatro, Steglujan, Symlin, Symlin Pen, SymlinPen 60, SymlinPen 120, Synjardy XR, Tanzeum, tirzepatide, Trijardy XR\n",
      "\n",
      "Medical Condition : Diarrhea\n",
      "Number of the drugs available: 39 \n",
      "Namely: loperamide, Lomotil, Imodium, atropine / diphenoxylate, Imodium A-D, Anti-Diarrheal, Pepto-Bismol, Florastor, codeine, bismuth subsalicylate, Diamode, Kaopectate, rifaximin, Up and Up Anti-Diarrheal Solution, neomycin, saccharomyces boulardii lyo, Bismatrol, opium, octreotide, Bismarex, Bismatrol Maximum Strength, crofelemer, Florastor Kids, Mytesi, Pedialyte, Peptic Relief, Pink Bismuth, Saccharomyces Boulardii+MOS, Soothe Caplets, atropine / difenoxin, CeraLyte, electrolyte replacement solutions, Enfalyte, Equalyte, Medi-Lyte, Motofen, Oralyte, Rehydralyte, ReVital\n",
      "\n",
      "Medical Condition : Eczema\n",
      "Number of the drugs available: 129 \n",
      "Namely: triamcinolone, mometasone, Dupixent, hydrocortisone, methotrexate, clobetasol, dupilumab, Elidel, fluocinonide, desonide, prednisone, Elocon, desoximetasone, pimecrolimus, Cortizone-10, dexamethasone, halobetasol, Kenalog, Topicort, fluocinolone, Dexamethasone Intensol, fluticasone, alclometasone, azathioprine, Cloderm, Cutivate, cyclosporine, DermOtic Oil, Locoid Lipocream, Aristocort A, Aristocort R, Beser, Beta HC, Cinolar, Cordran Tape, De-Sone LA, DermacinRx Trizapak, Dermasorb TA, DesOwen, Dxevo, flurandrenolide, Halog, HiDex, Juulissa Pharmapak, Locoid, Oralone, SilaLite Pak, Treziopak, Trianex, Triderm, Tritocin, Ultravate, Ala-Cort, Ala-Scalp, Ala-Scalp HP, amcinonide, ApexiCon E, Aquanil HC, Aquax-H, Caldecort, clioquinol / hydrocortisone, Clobex, clocortolone, Cordran, Cortizone-5, Derma-Smoothe / FS (Scalp), Dermarest Plus Anti-Itch, Dermovate, Dermtex HC, Desonate, doxepin, Fluocinonide-E, hydrocortisone / iodoquinol, Itch-X Lotion, NuCort, Pandel, Prudoxin, Sarnol-HC, Temovate, Texacort, U-Cort, Vanos, Verdeso, Zonalon, Ala-Quin, Alcortin A, aloe polysaccharides / iodoquinol, aloe vera / hydrocortisone / iodoquinol, Aloquin, ammonium lactate / halobetasol, ammonium lactate/urea, Apexicon, Capex, Carb-O-Lac5, Carb-O-Lac HP, Clobevate, Clodan, Cordran SP, Cormax, Cormax Scalp, Corti-Sav, Cyclocort, Derma-Smoothe / FS, Derma-Smoothe / FS (Body Oil), Dermatop, Dermazene, DesRx, diflorasone, Embeline, Embeline E, Flac, halcinonide, Halonate, Kerasal Ultra 20, LoKara, Nolix, Olux, Olux-E, prednicarbate, Quinja, R A Acne, Resinol, resorcinol, Synalar, Synalar Ointment, Tovet, Ultralytic, Ultralytic 2, Vytone\n",
      "\n",
      "Medical Condition : Erectile Dysfunction\n",
      "Number of the drugs available: 13 \n",
      "Namely: Cialis, sildenafil, Viagra, tadalafil, Caverject Impulse, Staxyn, vardenafil, alprostadil, Edex, Stendra, Caverject, Muse, avanafil\n",
      "\n",
      "Medical Condition : Gastrointestinal\n",
      "Number of the drugs available: 7 \n",
      "Namely: Entereg, Lidocaine Viscous, alvimopan, lidocaine, Glydo, Xylocaine Jelly, LTA II Kit\n",
      "\n",
      "Medical Condition : GERD (Heartburn)\n",
      "Number of the drugs available: 81 \n",
      "Namely: omeprazole, pantoprazole, Nexium, famotidine, Protonix, Prilosec, Dexilant, Aciphex, Prilosec OTC, esomeprazole, lansoprazole, Prevacid, Pepcid, rabeprazole, sucralfate, Pepcid AC, Carafate, Nexium 24HR, Protonix IV, Acid Controller Maximum Strength, Acid Controller Original Strength, Acid Reducer Maximum Strength, cimetidine, dexlansoprazole, Heartburn Relief, Heartburn Relief Maximum Strength, metoclopramide, omeprazole / sodium bicarbonate, Pepcid AC Chewable Tablets, Pepcid Oral Suspension, Mylanta, Reglan, Zegerid, calcium carbonate, magnesium oxide, Nexium IV, nizatidine, aluminum hydroxide / magnesium hydroxide / simethicone, bethanechol, Calci-Chew, Mag-Oxide, Pepcid Complete, Phillips' Cramp-free, Prevacid OTC, Prevacid SoluTab, Tagamet HB, Titralac, Tums Regular Strength, Tums Smoothies, Uro-Mag, Zegerid OTC, Aciphex Sprinkle, Alamag, Alka-Seltzer Heartburn + Gas, Almacone, aluminum hydroxide / magnesium carbonate, aluminum hydroxide / magnesium hydroxide, aluminum hydroxide, Amphojel, Axid AR, belladonna, calcium carbonate / famotidine / magnesium hydroxide, calcium carbonate / magnesium hydroxide / simethicone, calcium carbonate / simethicone, Di-Gel, Dual Action Complete, Duo Fusion, Gas-X with Maalox Extra Strength, Gelusil, Mi-Acid, Milantex, Mintox, Mintox Plus, Mylanta Coat & Cool, Mylanta Maximum Strength, Mylanta Tonight, Rulox, sodium citrate, Tricitrasol, Tums Chewy Bites with Gas Relief (Lemon & Strawberry), Zegerid with Magnesium Hydroxide\n",
      "\n",
      "Medical Condition : Gout\n",
      "Number of the drugs available: 9 \n",
      "Namely: allopurinol, Uloric, Zyloprim, Aloprim, febuxostat, Krystexxa, probenecid, pegloticase, rilonacept\n",
      "\n",
      "Medical Condition : Hair Loss\n",
      "Number of the drugs available: 17 \n",
      "Namely: spironolactone, minoxidil, Azulfidine, sulfasalazine, Olumiant, Aldactone, Rogaine, Kenalog-10, triamcinolone, Aristospan, Rogaine Men's Extra Strength, Rogaine Women's, Hair Regrowth Treatment for Women, Kenalog-40, Hair Regrowth Treatment for Men, Azulfidine EN-tabs, baricitinib\n",
      "\n",
      "Medical Condition : Hayfever\n",
      "Number of the drugs available: 234 \n",
      "Namely: Zyrtec, cetirizine, fluticasone, loratadine, Flonase, Allegra, montelukast, Claritin, Singulair, fexofenadine, Astelin, azelastine, Benadryl, Xyzal, prednisone, Allegra Allergy, Astepro, diphenhydramine, Flonase Allergy Relief, levocetirizine, Dymista, Medrol, Clarinex, Nasacort Allergy 24HR, Aller-Tec, chlorpheniramine, desloratadine, mometasone, Phenergan, triamcinolone, Alavert, Allegra-D 12 Hour, Allegra-D 24 Hour, Allergy Relief Tablets, Benadryl Allergy, budesonide, Claritin Reditabs, dexamethasone, Flonase Sensimist, MethylPREDNISolone Dose Pack, methylprednisolone, promethazine, Zyrtec-D, All Day Allergy, All Day Allergy Children's, Allegra ODT, Aller-Tec Children's, Allergy Relief 24 Hour, Antinaus 50, beclomethasone, cetirizine / pseudoephedrine, Children's Claritin Allergy, Claritin-D, Claritin-D 24 Hour, Clinacort, cyproheptadine, De-Sone LA, Depo-Medrol, Dexamethasone Intensol, Dxevo, flunisolide, HiDex, Kenalog-40, Loratadine-D 24 Hour, Medrol Dosepak, ohm Allergy Relief, Omnaris, Patanase, Phenadoz, Promethegan, QNASL, Solu-Medrol, Tavist ND, Ticanase, Wal-itin, ZoDex, Zyrtec-D 12 Hour, acrivastine / pseudoephedrine, Aller-Chlor, Aller-Ease, Allergy Relief, Allermax, Astepro Allergy, azelastine / fluticasone, Banophen, Beconase AQ, C.P.M., Chlo-Amine, Chlor-Mal, Chlor-Trimeton, chlorpheniramine / phenylephrine, ChlorTan, Claritin-D 12 Hour, Complete Allergy Relief, dexbrompheniramine / pseudoephedrine, Dicopanol, Diphedryl, Diphen, Dytuss, Ed-Chlortan, Ed ChlorPed, Ed Chlor Ped Jr., fexofenadine / pseudoephedrine, loratadine / pseudoephedrine, Mucinex Allergy, NasalCrom, olopatadine, Promethazine DM, Rhinocort Allergy, Scot-Tussin Allergy, Siladryl Allergy, Twilite, Valu-Dryl, Vanamine PD, Wal-finate, A-Phedrin, Abatuss DMX, acetaminophen / chlorpheniramine, Actifed Cold and Allergy, Advil Allergy Sinus, Advil Children's Allergy Sinus, Alahist D, Alavert D-12 Hour Allergy and Sinus, Allan Tannate Pediatric, All Day Allergy-D, Allerest Maximum Strength, Allerest PE, Allerfrim, Allergy & Congestion Relief, Allergy Relief D, Aphedrid, Aprodine, Arbinoxa, Benadryl Allergy Plus Congestion, BP Allergy JR, Brohist D, Bromaline, Bromatan Plus, Bromax, brompheniramine / phenylephrine, brompheniramine / pseudoephedrine, brompheniramine, Brotapp, Capron DM, Capron DMT, carbinoxamine, Carboxine, Children's Triacting Night Time, Chlorex-A 12, chlorpheniramine / codeine, chlorpheniramine / ibuprofen / pseudoephedrine, chlorpheniramine / phenylephrine / pyrilamine, chlorpheniramine / pseudoephedrine, ChlorTan D, ciclesonide, Clarinex-D 12 Hour, Clarinex-D 24 Hour, Clarinex Reditabs, Clear-Atadine-D, clemastine, Codar AR, Codimal DM, Conal, Conex, Coricidin HBP Cold & Flu, cromolyn, Dallergy Drops, Decon-A, Deconamine, Deltuss DMX, desloratadine / pseudoephedrine, dexchlorpheniramine / dextromethorphan / pseudoephedrine, dexchlorpheniramine / phenylephrine, dexchlorpheniramine, dextromethorphan / diphenhydramine / phenylephrine, dextromethorphan / phenylephrine / pyrilamine, dextromethorphan / promethazine, dextromethorphan / pyrilamine, Dicel, Dimetane Decongestant, Dimetapp Children's Cold & Allergy, diphenhydramine / phenylephrine, Dixaphedrine, doxylamine, Drixoral Cold and Allergy, Dytan-D, Dytan-DM, Ed A-Hist, Ed ChlorPed D, Equaline Sleep Aid, Equate Sleep Aid, Grastek, Histafed, Histex CT, Histex IE, Histex PD, house dust mite allergen extract, Karbinal ER, Leader Allergy Relief D-24, Lodrane D, LoHist-D, Loratadine-D 12 Hour, mixed grass pollens allergen extract, mometasone / olopatadine, Nalex A 12, Nasonex 24HR Allergy, NoHist LQ, Novahistine, Odactra, Oralair, Phena-Plus, Phenagil, pheniramine / phenylephrine, phenylephrine / promethazine, Polmon, pseudoephedrine / triprolidine, ragweed pollen allergen extract, Ragwitek, Ru-Hist D, Ru-Hist Forte, Ryaltris, Ryclora, Rymed, Rynex PE, Ryvent, Semprex-D, Sinus & Allergy PE, Sudafed PE Sinus & Allergy, SudoGest Sinus & Allergy, SuTan-DM, timothy grass pollen allergen extract, Tuzistra XR, Vi-Sudo, Zetonna\n",
      "\n",
      "Medical Condition : Herpes\n",
      "Number of the drugs available: 9 \n",
      "Namely: acyclovir, valacyclovir, Zovirax Cream, Abreva, Zovirax Ointment, Zovirax, docosanol, Blistex Ointment, allantoin / camphor / phenol\n",
      "\n",
      "Medical Condition : Hypertension\n",
      "Number of the drugs available: 214 \n",
      "Namely: lisinopril, amlodipine, losartan, hydrochlorothiazide, metoprolol, atenolol, Norvasc, carvedilol, Benicar, furosemide, clonidine, Cozaar, hydrochlorothiazide / lisinopril, Bystolic, Diovan, Lopressor, Toprol-XL, spironolactone, valsartan, Avapro, enalapril, hydralazine, Lasix, nifedipine, Prinivil, propranolol, ramipril, Zestril, diltiazem, hydrochlorothiazide / losartan, irbesartan, olmesartan, Vasotec, chlorthalidone, Coreg, hydrochlorothiazide / triamterene, Katerzia, Norliqva, verapamil, amlodipine / benazepril, benazepril, bisoprolol, Diovan HCT, doxazosin, Maxzide, Tenormin, Benicar HCT, candesartan, Cartia XT, Coreg CR, Exforge, Kapspargo Sprinkle, labetalol, perindopril, Qbrelis, telmisartan, Aldactone, Altace, amlodipine / valsartan, Aquazide H, atenolol / chlorthalidone, Azor, captopril, Cardizem CD, CaroSpir, Catapres, Catapres-TTS, Dyazide, Esidrix, felodipine, hydrochlorothiazide / valsartan, Hyzaar, indapamide, Inderal LA, InnoPran XL, Lotrel, Micardis, Microzide, nebivolol, nitroglycerin, prazosin, Procardia XL, quinapril, terazosin, Accupril, Adalat CC, Afeditab CR, amlodipine / atorvastatin, amlodipine / hydrochlorothiazide / valsartan, amlodipine / olmesartan, Apresoline, Atacand, Avalide, benazepril / hydrochlorothiazide, bendroflumethiazide / nadolol, bendroflumethiazide, bisoprolol / hydrochlorothiazide, Caduet, Calan SR, Cardizem LA, Cardura, Dilacor XR, Dilt-XR, Diltia XT, Diltzac, Epaned, eplerenone, Exforge HCT, fosinopril, guanfacine, hydrochlorothiazide / irbesartan, hydrochlorothiazide / olmesartan, hydrochlorothiazide / telmisartan, Lotensin, Matzim LA, methyldopa, metolazone, Micardis HCT, Minitran, minoxidil, nadolol, Nexiclon XR, Nitro-Bid, Nitro-Dur, Nitro-Time, Nitrolingual Pumpspray, NitroMist, Nitrostat, Nitro TD Patch-A, Taztia XT, Tekturna, Tiadylt ER, Tiazac, torsemide, Verelan, Verelan PM, Zestoretic, Ziac, Accuretic, acebutolol, Aldactazide, Aldoril, aliskiren / hydrochlorothiazide, aliskiren, amiloride / hydrochlorothiazide, amiloride, amlodipine / celecoxib, amlodipine / hydrochlorothiazide / olmesartan, amlodipine / perindopril, amlodipine / telmisartan, Atacand HCT, azilsartan medoxomil / chlorthalidone, azilsartan medoxomil, betaxolol, Brevibloc, candesartan / hydrochlorothiazide, captopril / hydrochlorothiazide, Cardene IV, chlorothiazide, clevidipine, Cleviprex, Conjupri, Consensi, Corgard, Corzide, Corzide 40/5, Corzide 80/5, Demadex, Diuril, Diuril Sodium, Dutoprol, Edarbi, Edarbyclor, enalapril / hydrochlorothiazide, eprosartan, esmolol, fosinopril / hydrochlorothiazide, guanabenz, hydrochlorothiazide / methyldopa, hydrochlorothiazide / metoprolol, hydrochlorothiazide / moexipril, hydrochlorothiazide / quinapril, hydrochlorothiazide / spironolactone, Hytrin, Inspra, isradipine, levamlodipine, Lopressor HCT, Lotensin HCT, Maxzide-25, mecamylamine, Midamor, Minipress, moexipril, nebivolol / valsartan, nicardipine, nisoldipine, pindolol, Prestalia, Sular, Tarka, Tekturna HCT, Tenoretic, Tenoretic 50, Tenoretic 100, timolol, Trandate, trandolapril / verapamil, trandolapril, Tribenzor, Twynsta, Vaseretic, Vecamyl, Zaroxolyn\n",
      "\n",
      "Medical Condition : Hypothyroidism\n",
      "Number of the drugs available: 18 \n",
      "Namely: levothyroxine, Synthroid, Armour Thyroid, Levoxyl, Cytomel, Tirosint, Euthyrox, liothyronine, Nature-Throid, Unithroid, Westhroid, Levo-T, Thyquidity, thyroid desiccated, Tirosint-Sol, NP Thyroid, Triostat, WP Thyroid\n",
      "\n",
      "Medical Condition : IBD (Bowel)\n",
      "Number of the drugs available: 37 \n",
      "Namely: budesonide, prednisone, mesalamine, sulfasalazine, Lialda, Asacol, Pentasa, Apriso, Remicade, infliximab, Asacol HD, Azulfidine, Delzicol, Rowasa, Entocort EC, hydrocortisone, azathioprine, dexamethasone, mercaptopurine, Imuran, cromolyn, cyclosporine, Dexamethasone Intensol, Gastrocrom, Acthar, Cortef, corticotropin, Cortifoam, mycophenolate mofetil, Cortenema, De-Sone LA, Dxevo, Solu-Cortef, ZoDex, Azasan, Azulfidine EN-tabs, H.P. Acthar Gel\n",
      "\n",
      "Medical Condition : Incontinence\n",
      "Number of the drugs available: 21 \n",
      "Namely: oxybutynin, Myrbetriq, VESIcare, Detrol LA, tolterodine, Toviaz, amitriptyline, solifenacin, Oxytrol, Detrol, Ditropan XL, hyoscyamine, mirabegron, duloxetine, trospium, Gelnique, Botox, fesoterodine, darifenacin, flavoxate, onabotulinumtoxinA\n",
      "\n",
      "Medical Condition : Insomnia\n",
      "Number of the drugs available: 76 \n",
      "Namely: trazodone, Ambien, zolpidem, Belsomra, suvorexant, Dayvigo, temazepam, daridorexant, lemborexant, Quviviq, amitriptyline, Lunesta, quetiapine, Restoril, Ativan, mirtazapine, lorazepam, clonazepam, gabapentin, doxepin, estazolam, flurazepam, Halcion, Ambien CR, diphenhydramine, eszopiclone, Rozerem, Silenor, Sonata, Advil PM, doxylamine, triazolam, quazepam, Edluar, olanzapine, Tylenol PM, Unisom SleepTabs, zaleplon, Compoz Nighttime Sleep Aid, Doral, ramelteon, chloral hydrate, dimenhydrinate, diphenhydramine / ibuprofen, Nytol, oxazepam, pentobarbital, Simply Sleep, Sominex, Unisom SleepGels, Unisom SleepMelts, Zolpimist, ZzzQuil, acetaminophen / diphenhydramine, amobarbital, Ibuprofen PM, Nighttime Sleepaid, Nytol QuickCaps, phenobarbital, Sleep Aid, Sleepinal, Twilite, Z-Sleep, Aleve PM, diphenhydramine / magnesium salicylate, diphenhydramine / naproxen, Doans PM, Equaline Sleep Aid, Equate Sleep Aid, Headache Relief PM, Legatrin PM, Midol PM, Motrin PM, Percogesic Extra Strength, Percogesic Original Strength, zopiclone\n",
      "\n",
      "Medical Condition : Menopause\n",
      "Number of the drugs available: 7 \n",
      "Namely: esterified estrogens / methyltestosterone, EEMT HS, Covaryx, EEMT, Bijuva, estradiol / progesterone, Covaryx HS\n",
      "\n",
      "Medical Condition : Migraine\n",
      "Number of the drugs available: 70 \n",
      "Namely: sumatriptan, Imitrex, Zomig, Cambia, Nurtec ODT, zolmitriptan, rizatriptan, Maxalt, Reyvow, Elyxyb, lasmiditan, rimegepant, Tosymra, gabapentin, Relpax, Excedrin Migraine, Amerge, cyclobenzaprine, Fiorinal, Treximet, Maxalt-MLT, diclofenac, Ubrelvy, naratriptan, aspirin / butalbital / caffeine, Frova, Botox, eletriptan, Excedrin, Reglan, metoclopramide, almotriptan, naproxen / sumatriptan, venlafaxine, acetaminophen / aspirin / caffeine, cyproheptadine, Imitrex Statdose, Methergine, Migranal, acetaminophen / aspirin / caffeine / salicylamide, Cafergot, dihydroergotamine, frovatriptan, memantine, Migergot, orphenadrine, Zembrace SymTouch, Zomig-ZMT, caffeine / ergotamine, celecoxib, D.H.E. 45, Ergomar, ergotamine, methylergonovine, onabotulinumtoxinA, Onzetra Xsail, Painaid, prochlorperazine, Vanquish, Zomig Nasal Spray, Anacin Advanced Headache Formula, Backaid Inflammatory Pain Formula, Fortabs, Genace, Goody's Extra-Strength Headache Powders, Goody's Extra Strength, Goody's Headache Powders, Migraine Relief, Trudhesa, ubrogepant\n",
      "\n",
      "Medical Condition : Osteoarthritis\n",
      "Number of the drugs available: 171 \n",
      "Namely: meloxicam, Celebrex, diclofenac, Mobic, naproxen, celecoxib, ibuprofen, Voltaren, chondroitin / glucosamine, Voltaren Arthritis Pain Gel, Cymbalta, prednisone, Aleve, Arthrotec, Cataflam, aspirin, Medrol Dosepak, nabumetone, duloxetine, etodolac, Advil, Motrin, Vimovo, Naprosyn, Pennsaid, Arthritis Pain, Ecotrin, Zorvolex, Aspergum, Aspiritab, Aspirtab, Bayer Aspirin, Bayer Aspirin Extra Strength Plus, Easprin, Ecpirin, Entercote, Genacote, Halfprin, methylprednisolone, Norwich Aspirin, Vazalore, Depo-Medrol, Indocin, indomethacin, Proprinal, A-G Profen, acetaminophen / codeine, Actiprofen, Addaprin, Advil Liqui-Gels, chondroitin / glucosamine / methylsulfonylmethane, diclofenac / misoprostol, Duexis, Genpril, IBU-200, Medrol, Midol IB, Motrin IB, Naprelan, Nuprin, Osteo Bi-Flex, piroxicam, Aflaxen, All Day Pain Relief, All Day Relief, Anaprox, Anaprox-DS, Cosamin DS, Diclozor, diflunisal, Dolobid, EC-Naprosyn, Feldene, Flanax Pain Reliever, Kenalog-40, ketoprofen, Lofena, MethylPREDNISolone Dose Pack, oxaprozin, Profinac, salsalate, Schiff Move Free, Solu-Medrol, sulindac, triamcinolone, Xrylix, amlodipine / celecoxib, Aristospan, betamethasone, bioflavonoids, capsaicin, Celestone Soluspan, Clinacort, Clinoril, Consensi, cortisone, Daypro, esomeprazole / naproxen, Euflexxa, Excedrin, hyaluronan, Indocin SR, Kenalog-10, Limbrel, Orthovisc, Osteo Bi-Flex Advanced, sodium hyaluronate, Supartz, Synvisc, Synvisc-One, Zilretta, Zostrix, acetaminophen / aspirin / caffeine, acetaminophen / aspirin, acetaminophen / caffeine, Arthricream, Asper-Flex, Axsain, Backaid Inflammatory Pain Formula, Boroleum, Capsin, Capzasin, Capzasin-HP, Capzasin-P, Castiva Cooling, Castiva Warming, Choline Magnesium Trisalicylate, Cidaflex, Cosmegen, dactinomycin, diclofenac / menthol, DicloPR, DicloStream, Durolane, Eucalyptamint, Excedrin Quick Tab, Excedrin Tension Headache, Exocaine Plus, famotidine / ibuprofen, fenoprofen, Fenortho, Fenovar, flurbiprofen, Gelsyn-3, Genace, Glucoten, Goody's Extra Strength, Gordogesic, Heet Triple Action, Hyalgan, hylan g-f 20, Hymovis, meclofenamate, Menthac Arthritis Cream with Capsaicin, Mentholatum Deep Heating, methyl salicylate, Monovisc, Myoflex, Nalfon, OptiFlex Complete, Pryflex, Relafen DS, Relamine, Salonpas Pain Patch, Satogesic, Sloan's Liniment, Supartz FX, tolmetin, trolamine salicylate, Zostrix Diabetic Foot Pain, Zostrix Sports\n",
      "\n",
      "Medical Condition : Osteoporosis\n",
      "Number of the drugs available: 63 \n",
      "Namely: alendronate, Prolia, Fosamax, calcium / vitamin d, denosumab, Boniva, Actonel, calcium carbonate, Evenity, Forteo, Reclast, Evista, Caltrate 600+D, Citracal + D, risedronate, Caltrate, hydrochlorothiazide, calcium citrate, ibandronate, raloxifene, Premarin, Atelvia, calcitonin, Zometa, Microzide, teriparatide, Aquazide H, Esidrix, zoledronic acid, alendronate / cholecalciferol, Fosamax Plus D, Binosto, Miacalcin, Tymlos, Aclasta, Calci-Chew, Prempro, abaloparatide, Calcitrate with D, calcium gluconate, calcium lactate, calcium phosphate, tribasic, conjugated estrogens, Os-Cal Calcium+D3, Tums Smoothies, bazedoxifene / conjugated estrogens, Cal-GLU, Cal-Lac, Calcitrate, conjugated estrogens / medroxyprogesterone, Duavee, esterified estrogens, estropipate, Menest, Ogen, Os-Cal 500 Chewable, Os-Cal Extra D3, Oystercal-D, Posture, Premarin Intravenous, Premphase, romosozumab, UPCal D\n",
      "\n",
      "Medical Condition : Pain\n",
      "Number of the drugs available: 392 \n",
      "Namely: tramadol, gabapentin, ibuprofen, oxycodone, acetaminophen, hydrocodone, Tylenol, methadone, acetaminophen / hydrocodone, Dilaudid, buprenorphine, OxyContin, Buprenex, Percocet, Paracetamol, Celebrex, naproxen, diclofenac, ketorolac, Ultram, amitriptyline, acetaminophen / oxycodone, Demerol, Nucynta, Voltaren Arthritis Pain Gel, aspirin, hydromorphone, Roxicodone, Aleve, celecoxib, Tylenol Arthritis Pain, acetaminophen / codeine, Advil, codeine, meloxicam, morphine, Voltaren, Motrin, Fentanyl Transdermal System, hydroxyzine, lidocaine, nortriptyline, pregabalin, acetaminophen / tramadol, etodolac, hydrocodone / ibuprofen, Arthritis Pain, Bayer Aspirin, duloxetine, fentanyl, oxymorphone, tapentadol, Tylenol 8 Hour, Advil Liqui-Gels, Altenol, Arthritis Pain Relief, Ascriptin, Aspergum, Aspiritab, Aspirtab, Bayer Aspirin Extra Strength Plus, Easprin, Ecotrin, Ecpirin, Entercote, Feverall, Flector Patch, Genacote, Halfprin, Mapap, meperidine, Motrin IB, MS Contin, Naprosyn, Norwich Aspirin, Vazalore, 7T Gummy ES Chewable Tablets, A-G Profen, Abenol, Acephen, Actamin, Actimol Children's, Actimol Infant, Actiprofen, Addaprin, Advil Children's, Advil Infant's Concentrated Drops, Advil Migraine, Aminofen, Anacin Aspirin Free, Apra, Atasol, Aurophen, Caldolor, Cataflam, Cetafen, Children's Motrin, Children's Silapap, Children's Tylenol, clonidine, ConZip, Dolono, Duragesic, Febrol Solution, Genapap, Genebs, Genpril, IBU-200, indomethacin, Infant's Tylenol, Jr. Tylenol, Kadian, Lidocaine Viscous, M-Pap, Mapap Arthritis Pain, Midol IB, Motrin Childrens, Motrin Junior Strength, Nortemp Children's, Nucynta ER, Nuprin, Ofirmev, Pharbetol, Proprinal, Qdolo, Silapap Childrens, Tactinal, Tempra Quicklets, Tycolene, Tylophen, Ultracet, Vitapap, Actiq, Aflaxen, All Day Pain Relief, All Day Relief, Anaprox, Anaprox-DS, Anjeso, Dazidox, EC-Naprosyn, ETH-Oxydose, Flanax Pain Reliever, Hysingla ER, ketamine, Lofena, Naprelan, Oxaydo, Oxydose, Oxyfast, piroxicam, RoxyBond, Tylenol PM, Xrylix, Xtampza ER, Zipsor, Zorvolex, Advil PM, Aleve PM, Aloe Vera Burn Relief Spray with Lidocaine, AneCream, Anestacon, Astero, Astramorph PF, Bactine, Belbuca, Biofreeze, butorphanol, Butrans, capsaicin, CidalEaze, DermacinRx Lidotral﻿, DermacinRx Lido V Pak, diphenhydramine, Duraclon, Duramorph, Duramorph PF, Eha Lotion, Fentora, Glydo, Ibuprofen PM, imipramine, Infumorph, Itch Relief, ketoprofen, levorphanol, LidaMantle, Lidopac, LidoRx, Lidotrans 5 Pak, Lidozion, LMX 4, LMX 5, LTA II Kit, Lydexa, Medi-Quik Spray, mefenamic acid, Methadone Diskets, Methadose, Mitigo, Moxicaine, nalbuphine, RadiaGuard, RectiCare, Regenecare HA Spray, Sprix, sulindac, Topicaine, Tranzarel, Xylocaine Jelly, Xylocaine Topical, Zionodil, acetaminophen / aspirin / caffeine / salicylamide, acetaminophen / aspirin, acetaminophen / benzhydrocodone, acetaminophen / caffeine / dihydrocodeine, acetaminophen / caffeine, acetaminophen / diphenhydramine, acetaminophen / ibuprofen, acetaminophen / phenyltoloxamine / salicylamide, ActivICE, alfentanil, Alka-Seltzer Wake-Up Call!, Anacin, Anbesol, Apadaz, Arctic Relief, Arthricream, Asper-Flex, Aspercreme Max No Mess Roll-On, Aspercreme Pain Relieving Heat Gel, aspirin / butalbital / caffeine, aspirin / caffeine / dihydrocodeine, aspirin / caffeine, aspirin / carisoprodol / codeine, aspirin / oxycodone, Axsain, Back & Body Extra Strength, Bayer Back & Body, Bayer Extra Strength Back & Body, BC Arthritis, BC Fast Pain Relief, Bengay Cold Therapy Gel, Bengay Ultra Strength Pain Relieving Patch, BENGAY Vanishing Scent, Bengay Zero Degrees, Benzo-Jel, benzocaine, Bio-Therm Pain Relieving Lotion, Blue-Emu Maximum Strength Arthritis, Muscle & Joint Pain Relief, Blue Gel, bupivacaine liposome, camphor / menthol, Capsagel Extra Strength, capsaicin / diclofenac, capsaicin / lidocaine / menthol / methyl salicylate, capsaicin / menthol / methyl salicylate, Capsin, Capsinac, Capzasin, Capzasin-HP, Capzasin-P, Castiva Warming, celecoxib / tramadol, Cepacol Fizzlers, Chiggerex, Choline Magnesium Trisalicylate, Clinoril, Cool 'n Heat Patch, Cope, Dendracin Neurodendraxcin, Denti-Care Denti-Freeze, DermacinRx Lexitral, DermacinRx Lexitral PharmaPak, Dermoplast, Diclofex DC, Dicloheal-60, Diclosaicin, Diclotral Pak, diflunisal, diphenhydramine / ibuprofen, diphenhydramine / magnesium salicylate, diphenhydramine / naproxen, Doan's Pills, Doans Pills Extra Strength, Doans PM, Dolobid, Dsuvia, Duraxin, Dvorah, dyclonine, Ed-Flex, Endodan, Excedrin Quick Tab, Excedrin Tension Headache, Exoten-C Pain Relief, Exparel, Fast Freeze, Feldene, fenoprofen, Fenortho, Fiorinal, Flexall, flurbiprofen, Fortabs, Freeze It, Gebauer's Spray and Stretch, Gold Bond Medicated Maximum Strength Foot, Headache Relief PM, Icy Hot Advanced Relief Pain Relief Patch, Icy Hot Extra Strength, Icy Hot Medicated Spray, Icy Hot Vanishing Scent Pain Relieving Gel, Inavix, Indocin, Indocin SR, Kank-a, Lanacane, Laryngesic, Legatrin PM, LidoPro, magnesium salicylate, Max-Freeze, meclofenamate, Medi-Derm Rx, Medicone, Medrox, Medrox-Rx, Menthac Arthritis Cream with Capsaicin, menthol, Meperitab, Midol PM, Mineral Ice, Motrin PM, MST, Myoflex, Nalfon, Nalocet, naloxone / pentazocine, New Terocin, NuDiclo SoluPak, Nuprin Backache, oliceridine, Olinvyk, P-A-C, P-A-C Analgesic, Painaid, pentafluoropropane / tetrafluoroethane, Percodan, Percogesic Extra Strength, Percogesic Original Strength, Pramox, pramoxine, Prax, Precaine B, Prialt, Primlev, Prolate, Qutenza, Rematex, Salonpas-Hot, Sarna Sensitive, Seglentis, Sloan's Liniment, Solarcaine First Aid Medicated Spray, Soltice Quick-Rub, Sombra Cool Therapy, Sombra Warm Therapy, Stopain, sufentanil, Sure Result DSS Premium Pak, Theragen HP, Therapeutic Ice, Tiger Balm, Tiger Balm Pain Relieving Patch, Tivorbex, Tofranil, tolmetin, Topical Anesthetic Dental Gel, Transderm-iQ, Trezix, trolamine salicylate, Tru-micin, Ultracin T, Xodol, Xolox, Ziclopro, ziconotide, Zostrix, Zostrix Diabetic Foot Pain, Zostrix Sports, Zyfrel\n",
      "\n",
      "Medical Condition : Pneumonia\n",
      "Number of the drugs available: 141 \n",
      "Namely: levofloxacin, clarithromycin, ceftriaxone, Levaquin, azithromycin, doxycycline, amoxicillin, Amoxil, Azithromycin Dose Pack, Augmentin, ciprofloxacin, Avelox, cefdinir, Zithromax, amoxicillin / clavulanate, clindamycin, Cipro, cefotaxime, metronidazole, cefuroxime, moxifloxacin, sulfamethoxazole / trimethoprim, vancomycin, Bactrim, Bactrim DS, cefepime, ceftazidime, Ceftin, Apo-Amoxi, Flagyl, amikacin, Ancef, cefpodoxime, Doxy 100, erythromycin, Vibramycin, Zyvox, cefixime, cilastatin / imipenem, Cipro I.V., Cipro XR, Cleocin, Doryx, Doryx MPC, Flagyl IV, linezolid, Monodox, Morgidox, Oraxyl, piperacillin / tazobactam, Zosyn, Biaxin XL, cefazolin, Cleocin HCl, Cleocin Pediatric, Cleocin Phosphate, Co-trimoxazole, Flagyl 375, Septra, tobramycin, Achromycin V, Ala-Tet, Amoclan, ampicillin, Augmentin XR, Avelox I.V., aztreonam, Brodspec, cefaclor, Cefzil, dicloxacillin, E.E.S. Granules, ertapenem, Ery-Tab, Eryc, EryPed, Erythrocin, Erythrocin Lactobionate, Floxin, Garamycin, gentamicin, Invanz, Maxipime, ofloxacin, PCE Dispertab, Penicillin VK, penicillin v potassium, Primaxin IV, Septra DS, Sulfatrim Pediatric, Suprax, Teflaro, tetracycline, tigecycline, Tygacil, Vancocin, Vancocin HCl, Vancocin HCl Pulvules, Zinacef, Amikin, Amikin Pediatric, ampicillin / sulbactam, avibactam / ceftazidime, Avycaz, Azactam, BACiiM, bacitracin, Baxdela, Bicillin C-R, Bicillin C-R 900/300, Cefotan, cefotetan, cefoxitin, cefprozil, ceftaroline, ceftolozane / tazobactam, Claforan, delafloxacin, Dycill, Dynapen, Factive, Fortaz, gemifloxacin, lefamulin, nafcillin, Nuzyra, omadacycline, oxacillin, penicillin g benzathine / procaine penicillin, penicillin g potassium, penicillin g sodium, Pfizerpen, piperacillin, procaine penicillin, Tazicef, telavancin, Tobi, Unasyn, Vibativ, Xenleta, Zerbaxa\n",
      "\n",
      "Medical Condition : Psoriasis\n",
      "Number of the drugs available: 199 \n",
      "Namely: clobetasol, methotrexate, Humira, Stelara, triamcinolone, ustekinumab, adalimumab, Cosentyx, Remicade, Taltz, Skyrizi, Tremfya, etanercept, Ilumya, infliximab, Avsola, Duobrii, guselkumab, halobetasol / tazarotene, Inflectra, ixekizumab, Renflexis, risankizumab, secukinumab, tildrakizumab, fluocinonide, Elocon, calcipotriene, mometasone, prednisone, Clobex, Dovonex, hydrocortisone, desonide, acitretin, betamethasone, cyclosporine, Soriatane, Taclonex, Tazorac, Temovate, betamethasone / calcipotriene, halobetasol, Kenalog-40, desoximetasone, Kenalog, Neoral, Otrexup, Trexall, dexamethasone, Enstilar, fluocinolone, Fluocinonide-E, methylprednisolone, Rasuvo, tacrolimus, Topicort, Aristocort A, Aristocort R, Aristospan, calcitriol, Cinolar, Clinacort, coal tar, Cortizone-10, Kenalog-10, Locoid, prednisolone, RediTrex, Taclonex Scalp, tazarotene, Trianex, Triderm, Tritocin, Vectical, Acthar, Ala-Cort, Ala-Scalp, Ala-Scalp HP, alclometasone, ammonium lactate / halobetasol, Aquanil HC, Beta HC, Caldecort, Cloderm, Cordran, Cordran Tape, Cortizone-5, Derma-Smoothe / FS (Scalp), Dermarest Plus Anti-Itch, Dermovate, Dermtex HC, diflorasone, flurandrenolide, Gengraf, Halog, Itch-X Lotion, Locoid Lipocream, NuCort, Olux, Olux-E, Oxsoralen-Ultra, Pandel, Psoriasin, Sarnol-HC, Sernivo, Synalar, Texacort, U-Cort, Vanos, Abrilada, amcinonide, Amjevita, ammonium lactate/urea, Analpram-HC, Analpram E, Anthraforte, anthralin, Anthrascalp, Apexicon, ApexiCon E, Balnetar, Betatar Gel, brodalumab, Bryhali, Calcitrene, Capex, Carb-O-Lac5, Carb-O-Lac HP, Clobevate, clocortolone, Clodan, coal tar/salicylic acid/sulfur, coal tar/salicylic acid, Cordran SP, Cormax, Cormax Scalp, corticotropin, Cutar, Cyclocort, Cyltezo, Derma-Smoothe / FS, Derma-Smoothe / FS (Body Oil), Dermatop, Desonate, DesOwen, DHS Tar Shampoo, Doak Tar, Dritho-Scalp, Drithocreme, Elta Tar, Embeline, Embeline E, Epifoam, Estar, Fototar, H.P. Acthar Gel, Hadlima, halcinonide, Halonate, Hulio, hydrocortisone / pramoxine, hydroxyurea, Hyrimoz, Impoyz, Ionil T, Ixifi, Kalosar, Kerasal Ultra 20, LoKara, Medotar, methoxsalen, MG217 Medicated Tar, Neutrogena T/Derm, Neutrogena T/Gel, Nolix, Novacort, Oxipor VHC, Pramosone, prednicarbate, Proctofoam HC, R A Acne, Resinol, resorcinol, Scytera, Siliq, Sorilux, Synalar Ointment, Tarsum, Theraplex T, Tovet, Ultralytic, Ultralytic 2, Ultravate, Verdeso, Wynzora, Yusimry, Zithranol, Zithranol-RR\n",
      "\n",
      "Medical Condition : Rheumatoid Arthritis\n",
      "Number of the drugs available: 190 \n",
      "Namely: methotrexate, Enbrel, Humira, sulfasalazine, prednisone, Actemra, hydroxychloroquine, meloxicam, Celebrex, Remicade, Plaquenil, Cimzia, etanercept, Simponi, adalimumab, Azulfidine, Rinvoq, rituximab, tocilizumab, infliximab, anakinra, Avsola, certolizumab, golimumab, Inflectra, Kineret, Olumiant, Renflexis, upadacitinib, leflunomide, diclofenac, Arava, Mobic, naproxen, celecoxib, Orencia, ibuprofen, Rituxan, Xeljanz, acetaminophen / hydrocodone, aspirin, atorvastatin, Aleve, Arthritis Pain, Aspergum, Aspiritab, Aspirtab, Bayer Aspirin, Bayer Aspirin Extra Strength Plus, Easprin, Ecotrin, Ecpirin, Entercote, Genacote, Halfprin, methylprednisolone, nabumetone, Norwich Aspirin, Rayos, Vazalore, Vimovo, Voltaren, Advil, doxycycline, etodolac, Motrin, Naprosyn, Proprinal, A-G Profen, Actiprofen, Addaprin, azathioprine, Cataflam, Duexis, Genpril, IBU-200, Medrol, Midol IB, Motrin IB, Nuprin, Rasuvo, Xeljanz XR, Aflaxen, All Day Pain Relief, All Day Relief, Anaprox, Anaprox-DS, Arthrotec, Depo-Medrol, dexamethasone, EC-Naprosyn, Flanax Pain Reliever, Imuran, indomethacin, Lofena, Medrol Dosepak, MethylPREDNISolone Dose Pack, Naprelan, Otrexup, piroxicam, RediTrex, Simponi Aria, sulindac, Trexall, triamcinolone, abatacept, acetaminophen / tramadol, Aristospan, auranofin, Azulfidine EN-tabs, Clinacort, cortisone, cyclosporine, Daypro, De-Sone LA, Dexamethasone Intensol, diclofenac / misoprostol, Dxevo, esomeprazole / naproxen, Feldene, Indocin, Indocin SR, Kenalog-10, Kenalog-40, ketoprofen, Kevzara, minocycline, mycophenolate mofetil, oxaprozin, phenytoin, Ridaura, salsalate, Solu-Medrol, tofacitinib, Abrilada, acetaminophen / aspirin, Acthar, alemtuzumab, Amjevita, Arthricream, Asper-Flex, Azasan, baricitinib, Boroleum, camphor / menthol / methyl salicylate, Castiva Cooling, Clinoril, corticotropin, Cuprimine, cyclophosphamide, Cyltezo, D-Penamine, Depen, diflunisal, Dolobid, Erelzi, Eticovo, Eucalyptamint, Exocaine Plus, famotidine / ibuprofen, fenoprofen, Fenortho, flurbiprofen, Gengraf, Gordogesic, H.P. Acthar Gel, Hadlima, Heet Triple Action, Hulio, Hyrimoz, interferon gamma-1b, Ixifi, meclofenamate, Mentholatum Deep Heating, methyl salicylate, Myoflex, Nalfon, Neoral, penicillamine, Relafen DS, Riabni, Salonpas Pain Patch, sarilumab, Satogesic, tetracycline, tolmetin, trolamine salicylate, Ximino, Xodol, Yusimry\n",
      "\n",
      "Medical Condition : Schizophrenia\n",
      "Number of the drugs available: 51 \n",
      "Namely: Seroquel, Latuda, Abilify, risperidone, clozapine, olanzapine, Zyprexa, Vraylar, Risperdal, Abilify Maintena, quetiapine, Rexulti, Fanapt, Aristada, Clozaril, Caplyta, lurasidone, cariprazine, brexpiprazole, Geodon, aripiprazole, lumateperone, Lybalvi, Invega, Seroquel XR, chlorpromazine, Saphris, Invega Sustenna, ziprasidone, Risperdal Consta, loxapine, paliperidone, Zyprexa Zydis, trifluoperazine, Zyprexa Relprevv, Invega Trinza, thioridazine, Abilify MyCite, Aristada Initio, FazaClo, Perseris, thiothixene, amisulpride, asenapine, Zyprexa Intramuscular, Versacloz, Adasuve, iloperidone, Secuado, Invega Hafyera, olanzapine / samidorphan\n",
      "\n",
      "Medical Condition : Seizures\n",
      "Number of the drugs available: 60 \n",
      "Namely: Keppra, levetiracetam, diazepam, topiramate, Diastat, Dilantin, Trokendi XR, Valtoco, Vimpat, midazolam, Nayzilam, Sabril, vigabatrin, phenobarbital, Trileptal, zonisamide, phenytoin, oxcarbazepine, Zonegran, Keppra XR, Valium, Topamax, valproic acid, primidone, Mysoline, Aptiom, Diastat AcuDial, Zarontin, lacosamide, Phenytoin Sodium, Diazepam Intensol, Gabitril, Oxtellar XR, Diastat Pediatric, Qudexy XR, Vitamin B6, Briviact, Elepsia XR, Eprontia, ethosuximide, Roweepra, Spritam, Fycompa, Phenytek, Roweepra XR, Xcopri, progesterone, pyridoxine, Aminoxin, brivaracetam, Celontin, cenobamate, eslicarbazepine, methsuximide, perampanel, tiagabine, Zonisade, ganaxolone, Vigadrone, Ztalmy\n",
      "\n",
      "Medical Condition : Stroke\n",
      "Number of the drugs available: 23 \n",
      "Namely: Plavix, clopidogrel, aspirin, Activase, Bayer Aspirin, Easprin, Ecotrin, alteplase, Arthritis Pain, Ascriptin, Aspergum, Aspir-Low, Bayer Aspirin Regimen, Genacote, Halfprin, Aspiritab, Aspirtab, Ecpirin, Entercote, nimodipine, Norwich Aspirin, Vazalore, Bayer Aspirin Extra Strength Plus\n",
      "\n",
      "Medical Condition : Swine Flu\n",
      "Number of the drugs available: 5 \n",
      "Namely: Tamiflu, oseltamivir, Relenza, zanamivir, peramivir\n",
      "\n",
      "Medical Condition : UTI\n",
      "Number of the drugs available: 114 \n",
      "Namely: ciprofloxacin, nitrofurantoin, Macrobid, Cipro, sulfamethoxazole / trimethoprim, Bactrim, amoxicillin, Amoxil, doxycycline, Bactrim DS, Augmentin, levofloxacin, Levaquin, amoxicillin / clavulanate, ceftriaxone, Macrodantin, cefuroxime, methenamine, Ceftin, trimethoprim, Vibramycin, ampicillin, Apo-Amoxi, Septra, Septra DS, Uribel, Doxy 100, cefixime, Cipro I.V., Cipro XR, Doryx, Doryx MPC, Hiprex, Monodox, Morgidox, Oraxyl, Suprax, Ancef, cefepime, cefotaxime, Co-trimoxazole, Furadantin, ofloxacin, Zosyn, amikacin, Amoclan, ampicillin / sulbactam, Augmentin XR, cefadroxil, cefazolin, ceftazidime, cilastatin / imipenem, Duricef, ertapenem, Floxin, Hyophen, Invanz, Maxipime, piperacillin / tazobactam, Sulfatrim Pediatric, Unasyn, Urelle, Uro-MP, Urogesic Blue, Ustell, Uta, Utira-C, Zinacef, acetohydroxamic acid, Amikin, Amikin Pediatric, avibactam / ceftazidime, Avycaz, Azactam, aztreonam, Azuphen MB, benzoic acid / hyoscyamine / methenamine / methylene blue / phenyl salicylate, cefaclor, cefiderocol, Cefotan, cefotetan, cefoxitin, ceftolozane / tazobactam, cilastatin / imipenem / relebactam, Claforan, Fetroja, Fortaz, Hyolev MB, hyoscyamine / methenamine / methylene blue / phenyl salicylate / sodium biphosphate, hyoscyamine / methenamine / methylene blue / sodium biphosphate, Lithostat, meropenem / vaborbactam, Phosphasal, piperacillin, plazomicin, Primaxin IV, Primsol, Recarbrio, Tazicef, Uretron DS, Urimar-T, Urin D/S, Urised, Uro-458, Uro-SP, UroAv-81, UroAv-B, UTICAP, Utrona-C, Vabomere, Vilamit MB, Vilevev MB, Zemdri, Zerbaxa\n",
      "\n",
      "Medical Condition : Weight Loss\n",
      "Number of the drugs available: 37 \n",
      "Namely: phentermine, topiramate, Adipex-P, semaglutide, Topamax, Contrave, Desoxyn, Alli, bupropion, orlistat, Xenical, phendimetrazine, diethylpropion, Qsymia, Saxenda, methamphetamine, Pregnyl, Wegovy, bupropion / naltrexone, liraglutide, phentermine / topiramate, amphetamine, Bontril PDM, chorionic gonadotropin (hcg), cimetidine, Lomaira, methylphenidate, Atti-Plex P, benzphetamine, desvenlafaxine, Tagamet HB, Evekeo, fenfluramine, Fendique ER, Imcivree, setmelanotide, tirzepatide\n",
      "\n"
     ]
    }
   ],
   "source": [
    "df['medical_condition'].unique()\n",
    "df['drug_name'].unique()\n",
    "\n",
    "\n",
    "for i in df['medical_condition'].unique() :\n",
    "    drugs_for_condition = df[df['medical_condition'] == i]['drug_name'].unique()\n",
    "    print(f\"Medical Condition : {i}\\nNumber of the drugs available: {len(drugs_for_condition)} \")\n",
    "    print(f\"Namely: {', '.join(drugs_for_condition)}\\n\")\n",
    "    \n",
    "\n"
   ]
  },
  {
   "cell_type": "markdown",
   "id": "750b0e77",
   "metadata": {},
   "source": [
    "2.3) How many unique drugs are listed in the dataset? (2)"
   ]
  },
  {
   "cell_type": "code",
   "execution_count": 72,
   "id": "c3cf8a93",
   "metadata": {},
   "outputs": [
    {
     "name": "stdout",
     "output_type": "stream",
     "text": [
      "The number of unique drugs: 2912\n"
     ]
    }
   ],
   "source": [
    "print(f\"The number of unique drugs: {len(df['drug_name'].unique())}\")"
   ]
  },
  {
   "cell_type": "markdown",
   "id": "fff6fe81",
   "metadata": {},
   "source": [
    "### 3. Activity Analysis"
   ]
  },
  {
   "cell_type": "markdown",
   "id": "8c3af352",
   "metadata": {},
   "source": [
    "3.1) Which drug has the highest activity based on site visitor activity? (2)"
   ]
  },
  {
   "cell_type": "code",
   "execution_count": 74,
   "id": "4d4abf7f",
   "metadata": {},
   "outputs": [
    {
     "data": {
      "text/plain": [
       "'doxycycline'"
      ]
     },
     "execution_count": 74,
     "metadata": {},
     "output_type": "execute_result"
    }
   ],
   "source": [
    "df['drug_name'][max(df['activity_percentage'].values)]"
   ]
  },
  {
   "cell_type": "markdown",
   "id": "b5d8920a",
   "metadata": {},
   "source": [
    "3.2) Provide a brief interpretation of what this might indicate. (2)"
   ]
  },
  {
   "cell_type": "markdown",
   "id": "690bb55b",
   "metadata": {},
   "source": [
    "Given the primary usage of deoxycycline, this might indicate that most of the patients suffer from bacterial and parasitic sicknesses such as syphylis cholera and acne.\n"
   ]
  },
  {
   "cell_type": "markdown",
   "id": "cebd431a",
   "metadata": {},
   "source": [
    "### 4 Prescription Analysis"
   ]
  },
  {
   "cell_type": "markdown",
   "id": "4e8493a5",
   "metadata": {},
   "source": [
    "4.1) How many drugs are available over-the-counter (OTC) vs. prescription (Rx)? (2)"
   ]
  },
  {
   "cell_type": "code",
   "execution_count": 82,
   "id": "60631a69",
   "metadata": {},
   "outputs": [
    {
     "name": "stdout",
     "output_type": "stream",
     "text": [
      "Drugs available over-the-counter: 79361\n",
      "Prescription drugs: 383697\n"
     ]
    }
   ],
   "source": [
    "df['rx_otc'].unique()\n",
    "\n",
    "print(f\"Drugs available over-the-counter: {sum(df['rx_otc']== 'OTC')}\")\n",
    "print(f\"Prescription drugs: {sum(df['rx_otc']== 'Rx')}\")\n"
   ]
  },
  {
   "cell_type": "markdown",
   "id": "9471eca4",
   "metadata": {},
   "source": [
    "4.2) Which medical condition has the highest number of OTC drugs? (2)"
   ]
  },
  {
   "cell_type": "code",
   "execution_count": 86,
   "id": "6327c325",
   "metadata": {},
   "outputs": [
    {
     "name": "stdout",
     "output_type": "stream",
     "text": [
      "Pain has the highest number of OTC drugs\n",
      "Number of OTC drugs for this condintion: 25938\n"
     ]
    }
   ],
   "source": [
    "otc_counts_per_condition = df[df['rx_otc'] == 'OTC'].groupby('medical_condition').size()\n",
    "\n",
    "max_otc_count = otc_counts_per_condition.max()\n",
    "condition_with_max_otc = otc_counts_per_condition[otc_counts_per_condition == max_otc_count].index[0]\n",
    "\n",
    "print(f\"{condition_with_max_otc} has the highest number of OTC drugs\")\n",
    "print(f\"Number of OTC drugs for this condintion: {max_otc_count}\")\n"
   ]
  },
  {
   "cell_type": "markdown",
   "id": "f69296a0",
   "metadata": {},
   "source": [
    "### 5. Pregnancy Category Analysis"
   ]
  },
  {
   "cell_type": "markdown",
   "id": "99749a6b",
   "metadata": {},
   "source": [
    "5.1) List the number of drugs in each pregnancy category. (2)"
   ]
  },
  {
   "cell_type": "code",
   "execution_count": 94,
   "id": "0688a359",
   "metadata": {},
   "outputs": [
    {
     "name": "stdout",
     "output_type": "stream",
     "text": [
      "Number of drugs in each pregnancy category:\n",
      "pregnancy_category\n",
      "A      18\n",
      "B     504\n",
      "C    1373\n",
      "D     227\n",
      "N     436\n",
      "X     129\n",
      "Name: drug_name, dtype: int64\n"
     ]
    }
   ],
   "source": [
    "number_in_pregnancy_category = df.groupby('pregnancy_category')['drug_name'].nunique()\n",
    "\n",
    "print(f\"Number of drugs in each pregnancy category:\\n{number_in_pregnancy_category}\")\n",
    "\n",
    "\n",
    "\n"
   ]
  },
  {
   "cell_type": "markdown",
   "id": "208b0e23",
   "metadata": {},
   "source": [
    "5.2) Which medical condition has the highest number of drugs in category X? (2)"
   ]
  },
  {
   "cell_type": "code",
   "execution_count": 101,
   "id": "9eaa46da",
   "metadata": {},
   "outputs": [
    {
     "name": "stdout",
     "output_type": "stream",
     "text": [
      "The medical condition with the highest number of drugs in category X is: Acne\n",
      "Number of drugs for this condition is: 36\n"
     ]
    }
   ],
   "source": [
    "df_by_pregnancyX = df[df['pregnancy_category'] == 'X']\n",
    "\n",
    "drug_for_each_condition = df_by_pregnancyX.groupby('medical_condition')['drug_name'].nunique()\n",
    "\n",
    "condition_having_Highest = drug_for_each_condition.idxmax()\n",
    "max_drug_count = drug_for_each_condition.max()\n",
    "\n",
    "print(f\"The medical condition with the highest number of drugs in category X is: {condition_having_Highest}\")\n",
    "print(f\"Number of drugs for this condition is: {max_drug_count}\")\n"
   ]
  },
  {
   "cell_type": "markdown",
   "id": "44026edd",
   "metadata": {},
   "source": [
    "5.3) What might be the implications for pregnant women with this condition? (3)"
   ]
  },
  {
   "cell_type": "markdown",
   "id": "d058c8b2",
   "metadata": {},
   "source": [
    "\n",
    "Pregnant women experiencing acne, much like everyone else, might face potential challenges related to their skin health during pregnancy. Acne in pregnancy could be influenced by hormonal changes, this may impact the overall well-being and self-esteem of these pregnant women."
   ]
  },
  {
   "cell_type": "markdown",
   "id": "786861bb",
   "metadata": {},
   "source": [
    "### 6. Controlled Substances Act (CSA) Schedule Analysis"
   ]
  },
  {
   "cell_type": "markdown",
   "id": "8064e90e",
   "metadata": {},
   "source": [
    "6.1) How many drugs fall under each CSA schedule? (2)"
   ]
  },
  {
   "cell_type": "code",
   "execution_count": 105,
   "id": "8a14fb04",
   "metadata": {},
   "outputs": [
    {
     "name": "stdout",
     "output_type": "stream",
     "text": [
      "The number of drugs in each CSA schedule:\n",
      "csa\n",
      "2     101\n",
      "3      26\n",
      "4      71\n",
      "5      20\n",
      "M      16\n",
      "N    2669\n",
      "U       9\n",
      "Name: drug_name, dtype: int64\n"
     ]
    }
   ],
   "source": [
    "csa_schedules = df.groupby('csa')['drug_name'].nunique()\n",
    "\n",
    "print(f\"The number of drugs in each CSA schedule:\\n{csa_schedules}\")\n"
   ]
  },
  {
   "cell_type": "markdown",
   "id": "e7f93fdd",
   "metadata": {},
   "source": [
    "6.2) Identify drugs that have multiple schedules. (2)"
   ]
  },
  {
   "cell_type": "code",
   "execution_count": 118,
   "id": "db767f1f",
   "metadata": {},
   "outputs": [
    {
     "name": "stdout",
     "output_type": "stream",
     "text": [
      "Drugs with multiple schedules (denoted as Schedule 'M'):\n",
      "\n",
      "Virtussin DAC\n",
      "Cheratussin DAC\n",
      "codeine / guaifenesin / pseudoephedrine\n",
      "Biotussin DAC\n",
      "Ambifed CD\n",
      "chlorpheniramine / codeine\n",
      "Codar AR\n",
      "Coditussin DAC\n",
      "Guaifen DAC\n",
      "Lortuss EX\n",
      "Tricode GF\n",
      "Tusnel C\n",
      "Tuzistra XR\n",
      "opium\n",
      "pentobarbital\n",
      "acetaminophen / codeine\n"
     ]
    }
   ],
   "source": [
    "drugs_with_multiple_schedules = df[df['csa'] == 'M']['drug_name'].unique()\n",
    "\n",
    "print(\"Drugs with multiple schedules (denoted as Schedule 'M'):\\n\")\n",
    "for i in drugs_with_multiple_schedules:\n",
    "    print(i)\n",
    "\n"
   ]
  },
  {
   "cell_type": "markdown",
   "id": "5cb581ae",
   "metadata": {},
   "source": [
    "6.3) Provide a brief interpretation of what this might indicate. (2)"
   ]
  },
  {
   "cell_type": "markdown",
   "id": "3c92892e",
   "metadata": {},
   "source": [
    "These drugs have different schedules because they are made of more than one type of medicine. Each medicine does something different in our bodies. Some help with pain, some help with allergies, and others help with coughing. The schedules show us how to use these medicines in a safe way."
   ]
  },
  {
   "cell_type": "markdown",
   "id": "be66a9a9",
   "metadata": {},
   "source": [
    "### 7.  Alcohol Interaction"
   ]
  },
  {
   "cell_type": "markdown",
   "id": "9beb343d",
   "metadata": {},
   "source": [
    "7.1) How many drugs interact with alcohol? (2)"
   ]
  },
  {
   "cell_type": "code",
   "execution_count": 124,
   "id": "d6e043ec",
   "metadata": {},
   "outputs": [
    {
     "name": "stdout",
     "output_type": "stream",
     "text": [
      "Number of drugs that do interact with alcohol: 1376\n"
     ]
    }
   ],
   "source": [
    "does_interact_with_alcohol = df[df['alcohol'] == 'X']['drug_name'].unique()\n",
    "\n",
    "number_of_those_drugs = len(does_interact_with_alcohol)\n",
    "\n",
    "print(f\"Number of drugs that do interact with alcohol: {number_of_those_drugs}\")\n"
   ]
  },
  {
   "cell_type": "markdown",
   "id": "20f157ec",
   "metadata": {},
   "source": [
    "7.2)  Among the drugs that interact with alcohol, which medical condition has the most drugs? (2)"
   ]
  },
  {
   "cell_type": "code",
   "execution_count": 163,
   "id": "c83e03ea",
   "metadata": {},
   "outputs": [
    {
     "name": "stdout",
     "output_type": "stream",
     "text": [
      "The medical condition with the most drugs that interact with alcohol is: Pain\n",
      "The number of drugs: 252\n"
     ]
    }
   ],
   "source": [
    "do_interact = df[df['alcohol'] == 'X']\n",
    "\n",
    "number_of_drugs_per_condition = do_interact.groupby('medical_condition')['drug_name'].nunique()\n",
    "\n",
    "condition_with_Highest = number_of_drugs_per_condition.idxmax()\n",
    "highest_drug_number = number_of_drugs_per_condition.max()\n",
    "\n",
    "print(f\"The medical condition with the most drugs that interact with alcohol is: {condition_with_Highest}\")\n",
    "print(f\"The number of drugs: {highest_drug_number}\")\n"
   ]
  },
  {
   "cell_type": "markdown",
   "id": "ac9d25a8",
   "metadata": {},
   "source": [
    "7.3) Discuss the potential implications for patients with this condition who consume alcohol. (3)"
   ]
  },
  {
   "cell_type": "markdown",
   "id": "3d1be081",
   "metadata": {},
   "source": [
    "When people have pain and they also drink alcohol while taking certain medicines, it can cause problems. Mixing alcohol with these medicines can make the effects stronger or cause unexpected reactions like feeling very tired, dizzy, or making bad decisions. The pain medicines may not work as well if alcohol is in the mix, making the pain stay or need stronger doses which can be risky. This mix of alcohol and medicines can be harmful for the liver, stomach, and heart, especially if someone drinks a lot over time. Some people with pain also take other medicines, and alcohol can make those medicines not work well or cause bad effects."
   ]
  },
  {
   "cell_type": "markdown",
   "id": "faee5e4c",
   "metadata": {},
   "source": [
    "### 8. Rating Analysis"
   ]
  },
  {
   "cell_type": "markdown",
   "id": "a860093b",
   "metadata": {},
   "source": [
    "8.1) What is the average rating of drugs for each medical condition? (2)"
   ]
  },
  {
   "cell_type": "code",
   "execution_count": 129,
   "id": "622951ae",
   "metadata": {},
   "outputs": [
    {
     "name": "stdout",
     "output_type": "stream",
     "text": [
      "Average rating of drugs for each medical condition: \n",
      "medical_condition\n",
      "ADHD                    7.062264\n",
      "AIDS/HIV                7.047692\n",
      "Acne                    7.565833\n",
      "Allergies               5.233333\n",
      "Alzheimer's             6.325000\n",
      "Angina                  7.830000\n",
      "Anxiety                 7.684615\n",
      "Asthma                  7.230303\n",
      "Bipolar Disorder        6.841071\n",
      "Bronchitis              5.376190\n",
      "COPD                    7.179310\n",
      "Cancer                  5.500000\n",
      "Cholesterol             5.866667\n",
      "Colds & Flu             6.519048\n",
      "Constipation            7.481081\n",
      "Covid 19                4.656250\n",
      "Depression              7.210989\n",
      "Diabetes (Type 1)       6.644737\n",
      "Diabetes (Type 2)       5.911719\n",
      "Diarrhea                6.742857\n",
      "Eczema                  8.294737\n",
      "Erectile Dysfunction    7.530769\n",
      "GERD (Heartburn)        7.218182\n",
      "Gastrointestinal             NaN\n",
      "Gout                    8.525000\n",
      "Hair Loss               5.700000\n",
      "Hayfever                6.635789\n",
      "Herpes                  7.690000\n",
      "Hypertension            5.926490\n",
      "Hypothyroidism          5.494118\n",
      "IBD (Bowel)             7.023077\n",
      "Incontinence            5.794737\n",
      "Insomnia                6.692308\n",
      "Menopause               6.800000\n",
      "Migraine                7.305000\n",
      "Osteoarthritis          6.752874\n",
      "Osteoporosis            5.105882\n",
      "Pain                    6.890116\n",
      "Pneumonia               6.775000\n",
      "Psoriasis               7.675325\n",
      "Rheumatoid Arthritis    7.138947\n",
      "Schizophrenia           6.212195\n",
      "Seizures                7.129268\n",
      "Stroke                  8.150000\n",
      "Swine Flu               8.650000\n",
      "UTI                     6.107547\n",
      "Weight Loss             7.658621\n",
      "Name: rating, dtype: float64\n"
     ]
    }
   ],
   "source": [
    "ave_rating = df.groupby('medical_condition')['rating'].mean()\n",
    "\n",
    "print(f\"Average rating of drugs for each medical condition: \\n{ave_rating}\")\n"
   ]
  },
  {
   "cell_type": "markdown",
   "id": "be657011",
   "metadata": {},
   "source": [
    "8.2) Identify the top 5 drugs with the highest ratings. (2)"
   ]
  },
  {
   "cell_type": "code",
   "execution_count": 150,
   "id": "469f0086",
   "metadata": {},
   "outputs": [
    {
     "name": "stdout",
     "output_type": "stream",
     "text": [
      "Top 5 unique drugs with the highest ratings:\n",
      "Drug: Anacin, Rating: 10.0\n",
      "\n",
      "Drug: tolmetin, Rating: 10.0\n",
      "\n",
      "Drug: Deconamine, Rating: 10.0\n",
      "\n",
      "Drug: Legatrin PM, Rating: 10.0\n",
      "\n",
      "Drug: chlorpheniramine / phenylephrine, Rating: 10.0\n",
      "\n"
     ]
    }
   ],
   "source": [
    "sorted_df_by_rating = df.sort_values(by='rating', ascending=False)\n",
    "\n",
    "unique_drug_names = sorted_df_by_rating['drug_name'].unique()\n",
    "\n",
    "print(\"Top 5 unique drugs with the highest ratings:\")\n",
    "for i in range(5):\n",
    "    drug_name = unique_drug_names[i]\n",
    "    drug_rating = sorted_df_by_rating[sorted_df_by_rating['drug_name'] == drug_name]['rating'].values[0]\n",
    "    print(f\"Drug: {drug_name}, Rating: {drug_rating}\\n\")\n"
   ]
  },
  {
   "cell_type": "markdown",
   "id": "95450141",
   "metadata": {},
   "source": [
    "8.3) Provide a brief interpretation of their effectiveness based on user feedback. (3)"
   ]
  },
  {
   "cell_type": "markdown",
   "id": "f5375c64",
   "metadata": {},
   "source": [
    "\n",
    "The drugs with a top rating of 10.0, as per user feedback, are seen as very effective. People who used these drugs found them to be highly helpful for managing their health issues, and they believe these drugs make a significant positive difference. The high rating suggests that users experienced relief and benefits while using these medications, with minimal negative effects or difficulties. However, it's important to remember that these ratings are based on personal experiences and can vary for each person"
   ]
  },
  {
   "cell_type": "markdown",
   "id": "ba28a0f8",
   "metadata": {},
   "source": [
    "### 9. Advanced Analysis"
   ]
  },
  {
   "cell_type": "markdown",
   "id": "8b02c320",
   "metadata": {},
   "source": [
    "9.1) Are there any correlations between a drug's rating and its activity based on site visitor activity? (6)"
   ]
  },
  {
   "cell_type": "code",
   "execution_count": 151,
   "id": "9750414c",
   "metadata": {},
   "outputs": [
    {
     "name": "stdout",
     "output_type": "stream",
     "text": [
      "Correlation coefficient between rating and activity_percentage: -0.03460223774256347\n"
     ]
    }
   ],
   "source": [
    "correlation = df['rating'].corr(df['activity_percentage'])\n",
    "\n",
    "print(f\"Correlation coefficient between rating and activity_percentage: {correlation}\")\n"
   ]
  },
  {
   "cell_type": "markdown",
   "id": "e2db2a76",
   "metadata": {},
   "source": [
    "The correlation coefficient between the drug's rating and its activity percentage based on site visitor activity is approximately -0.0346.\n",
    "\n",
    "Given this correlation coefficient close to zero, it suggests a very weak negative correlation between the drug's rating and its activity percentage. In other words, there is a negligible relationship between how users rate a drug for its effectiveness and the level of activity or engagement related to that drug based on site visitor activity.\n",
    "\n",
    "It's important to note that correlation does not imply causation, and this weak correlation indicates that user ratings for a drug are not significantly associated with the level of site visitor activity for that drug. Other factors might influence user ratings and activity independently."
   ]
  },
  {
   "cell_type": "markdown",
   "id": "6038283d",
   "metadata": {},
   "source": [
    "9.2) What might this indicate about user preferences or drug effectiveness? (4)"
   ]
  },
  {
   "cell_type": "markdown",
   "id": "b95ee601",
   "metadata": {},
   "source": [
    "The weak correlation suggests that users' opinions about a drug's effectiveness, as reflected in their ratings, are not significantly influenced by the level of activity or engagement related to that drug on the website. Users appear to base their ratings more on personal experiences and outcomes rather than the drug's popularity. Users have diverse preferences and considerations when evaluating a drug's effectiveness. Various factors like personal health outcomes, side effects, ease of use, and overall satisfaction with the drug shape their ratings, and these factors might not necessarily align with the drug's website activity. Moreover, users likely gather information about a drug's effectiveness from a multitude of sources, including healthcare professionals, personal experiences, online reviews, and recommendations from peers.\n",
    "\n",
    "Simply put, the faint negative correlation implies that users form their opinions about a drug's effectiveness based on a wide range of factors, and the website's activity related to the drug does not significantly sway their ratings."
   ]
  },
  {
   "cell_type": "markdown",
   "id": "eb5a51a7",
   "metadata": {},
   "source": [
    "9.3) For drugs that require a prescription (Rx), how does their average rating compare to those that are available over-the-counter (OTC)? (3)"
   ]
  },
  {
   "cell_type": "code",
   "execution_count": 152,
   "id": "ab8eccc7",
   "metadata": {},
   "outputs": [
    {
     "name": "stdout",
     "output_type": "stream",
     "text": [
      "Average rating for drugs that require a prescription (Rx): 6.75\n",
      "Average rating for drugs that are available over-the-counter (OTC): 6.57\n"
     ]
    }
   ],
   "source": [
    "average_rating_for_Rx = df[df['rx_otc'] == 'Rx']['rating'].mean()\n",
    "\n",
    "average_rating_for_OTC = df[df['rx_otc'] == 'OTC']['rating'].mean()\n",
    "\n",
    "print(f\"Average rating for drugs that require a prescription (Rx): {average_rating_for_Rx:.2f}\")\n",
    "print(f\"Average rating for drugs that are available over-the-counter (OTC): {average_rating_for_OTC:.2f}\")\n"
   ]
  },
  {
   "cell_type": "markdown",
   "id": "9cf51706",
   "metadata": {},
   "source": [
    "Drugs needing a prescription (Rx) tend to have a 1.027 times higher average rating of 6.75, while over-the-counter (OTC) drugs average a rating of 6.57.\n",
    "\n",
    "This could be said to be indicative of the tendency among users to view prescription drugs as somewhat more effective or satisfactory compared to their over-the-counter counterparts, based on average ratings. However, because these are mean ratings, individual views on drug effectiveness are not necessariliy reflected here as they could depend on personal experiences, health situations, and various other elements."
   ]
  },
  {
   "cell_type": "markdown",
   "id": "3890e8b6",
   "metadata": {},
   "source": [
    "### 10. Contextual Analysis"
   ]
  },
  {
   "cell_type": "markdown",
   "id": "421e6282",
   "metadata": {},
   "source": [
    "Analyze the potential public health implications of drugs that have a high potential for abuse (CSA schedules 1 and 2). Discuss strategies to mitigate the risks associated with these drugs. (10)"
   ]
  },
  {
   "cell_type": "code",
   "execution_count": 159,
   "id": "7c53f586",
   "metadata": {},
   "outputs": [
    {
     "name": "stdout",
     "output_type": "stream",
     "text": [
      "Drugs classified under CSA schedules 1 and 2:\n"
     ]
    },
    {
     "data": {
      "text/html": [
       "<div>\n",
       "<style scoped>\n",
       "    .dataframe tbody tr th:only-of-type {\n",
       "        vertical-align: middle;\n",
       "    }\n",
       "\n",
       "    .dataframe tbody tr th {\n",
       "        vertical-align: top;\n",
       "    }\n",
       "\n",
       "    .dataframe thead th {\n",
       "        text-align: right;\n",
       "    }\n",
       "</style>\n",
       "<table border=\"1\" class=\"dataframe\">\n",
       "  <thead>\n",
       "    <tr style=\"text-align: right;\">\n",
       "      <th></th>\n",
       "      <th>drug_name</th>\n",
       "      <th>medical_condition</th>\n",
       "      <th>activity_percentage</th>\n",
       "      <th>rx_otc</th>\n",
       "      <th>pregnancy_category</th>\n",
       "      <th>csa</th>\n",
       "      <th>alcohol</th>\n",
       "      <th>rating</th>\n",
       "      <th>no_of_reviews</th>\n",
       "      <th>drug_link</th>\n",
       "      <th>medical_condition_description</th>\n",
       "      <th>medical_condition_url</th>\n",
       "    </tr>\n",
       "  </thead>\n",
       "  <tbody>\n",
       "    <tr>\n",
       "      <th>378179</th>\n",
       "      <td>hydrocodone</td>\n",
       "      <td>Pain</td>\n",
       "      <td>46</td>\n",
       "      <td>Rx</td>\n",
       "      <td>C</td>\n",
       "      <td>2</td>\n",
       "      <td>X</td>\n",
       "      <td>5.5</td>\n",
       "      <td>188.0</td>\n",
       "      <td>https://www.drugs.com/hydrocodone.html</td>\n",
       "      <td>Pain An unpleasant sensory and emotional exper...</td>\n",
       "      <td>https://www.drugs.com/condition/pain.html</td>\n",
       "    </tr>\n",
       "    <tr>\n",
       "      <th>390411</th>\n",
       "      <td>morphine</td>\n",
       "      <td>Pain</td>\n",
       "      <td>10</td>\n",
       "      <td>Rx</td>\n",
       "      <td>C</td>\n",
       "      <td>2</td>\n",
       "      <td>X</td>\n",
       "      <td>8.0</td>\n",
       "      <td>170.0</td>\n",
       "      <td>https://www.drugs.com/morphine.html</td>\n",
       "      <td>Pain An unpleasant sensory and emotional exper...</td>\n",
       "      <td>https://www.drugs.com/condition/pain.html</td>\n",
       "    </tr>\n",
       "    <tr>\n",
       "      <th>530090</th>\n",
       "      <td>Zyfrel</td>\n",
       "      <td>Pain</td>\n",
       "      <td>0</td>\n",
       "      <td>Rx</td>\n",
       "      <td>C</td>\n",
       "      <td>2</td>\n",
       "      <td>X</td>\n",
       "      <td>NaN</td>\n",
       "      <td>NaN</td>\n",
       "      <td>https://www.drugs.com/cdi/zyfrel.html</td>\n",
       "      <td>Pain An unpleasant sensory and emotional exper...</td>\n",
       "      <td>https://www.drugs.com/condition/pain.html</td>\n",
       "    </tr>\n",
       "    <tr>\n",
       "      <th>386132</th>\n",
       "      <td>hydromorphone</td>\n",
       "      <td>Pain</td>\n",
       "      <td>12</td>\n",
       "      <td>Rx</td>\n",
       "      <td>C</td>\n",
       "      <td>2</td>\n",
       "      <td>X</td>\n",
       "      <td>8.0</td>\n",
       "      <td>292.0</td>\n",
       "      <td>https://www.drugs.com/mtm/hydromorphone.html</td>\n",
       "      <td>Pain An unpleasant sensory and emotional exper...</td>\n",
       "      <td>https://www.drugs.com/condition/pain.html</td>\n",
       "    </tr>\n",
       "    <tr>\n",
       "      <th>380204</th>\n",
       "      <td>OxyContin</td>\n",
       "      <td>Pain</td>\n",
       "      <td>35</td>\n",
       "      <td>Rx</td>\n",
       "      <td>N</td>\n",
       "      <td>2</td>\n",
       "      <td>X</td>\n",
       "      <td>8.8</td>\n",
       "      <td>194.0</td>\n",
       "      <td>https://www.drugs.com/oxycontin.html</td>\n",
       "      <td>Pain An unpleasant sensory and emotional exper...</td>\n",
       "      <td>https://www.drugs.com/condition/pain.html</td>\n",
       "    </tr>\n",
       "    <tr>\n",
       "      <th>431198</th>\n",
       "      <td>Dazidox</td>\n",
       "      <td>Pain</td>\n",
       "      <td>2</td>\n",
       "      <td>Rx</td>\n",
       "      <td>N</td>\n",
       "      <td>2</td>\n",
       "      <td>X</td>\n",
       "      <td>NaN</td>\n",
       "      <td>NaN</td>\n",
       "      <td>https://www.drugs.com/cons/dazidox.html</td>\n",
       "      <td>Pain An unpleasant sensory and emotional exper...</td>\n",
       "      <td>https://www.drugs.com/condition/pain.html</td>\n",
       "    </tr>\n",
       "  </tbody>\n",
       "</table>\n",
       "</div>"
      ],
      "text/plain": [
       "            drug_name medical_condition  activity_percentage rx_otc  \\\n",
       "378179    hydrocodone              Pain                   46     Rx   \n",
       "390411       morphine              Pain                   10     Rx   \n",
       "530090         Zyfrel              Pain                    0     Rx   \n",
       "386132  hydromorphone              Pain                   12     Rx   \n",
       "380204      OxyContin              Pain                   35     Rx   \n",
       "431198        Dazidox              Pain                    2     Rx   \n",
       "\n",
       "       pregnancy_category csa alcohol  rating  no_of_reviews  \\\n",
       "378179                  C   2       X     5.5          188.0   \n",
       "390411                  C   2       X     8.0          170.0   \n",
       "530090                  C   2       X     NaN            NaN   \n",
       "386132                  C   2       X     8.0          292.0   \n",
       "380204                  N   2       X     8.8          194.0   \n",
       "431198                  N   2       X     NaN            NaN   \n",
       "\n",
       "                                           drug_link  \\\n",
       "378179        https://www.drugs.com/hydrocodone.html   \n",
       "390411           https://www.drugs.com/morphine.html   \n",
       "530090         https://www.drugs.com/cdi/zyfrel.html   \n",
       "386132  https://www.drugs.com/mtm/hydromorphone.html   \n",
       "380204          https://www.drugs.com/oxycontin.html   \n",
       "431198       https://www.drugs.com/cons/dazidox.html   \n",
       "\n",
       "                            medical_condition_description  \\\n",
       "378179  Pain An unpleasant sensory and emotional exper...   \n",
       "390411  Pain An unpleasant sensory and emotional exper...   \n",
       "530090  Pain An unpleasant sensory and emotional exper...   \n",
       "386132  Pain An unpleasant sensory and emotional exper...   \n",
       "380204  Pain An unpleasant sensory and emotional exper...   \n",
       "431198  Pain An unpleasant sensory and emotional exper...   \n",
       "\n",
       "                            medical_condition_url  \n",
       "378179  https://www.drugs.com/condition/pain.html  \n",
       "390411  https://www.drugs.com/condition/pain.html  \n",
       "530090  https://www.drugs.com/condition/pain.html  \n",
       "386132  https://www.drugs.com/condition/pain.html  \n",
       "380204  https://www.drugs.com/condition/pain.html  \n",
       "431198  https://www.drugs.com/condition/pain.html  "
      ]
     },
     "execution_count": 159,
     "metadata": {},
     "output_type": "execute_result"
    }
   ],
   "source": [
    "csa_1_2_drugs = df[df['csa'].isin(['1', '2'])]\n",
    "\n",
    "print(\"Drugs classified under CSA schedules 1 and 2:\")\n",
    "csa_1_2_drugs.sample(6)\n"
   ]
  },
  {
   "cell_type": "markdown",
   "id": "2124c318",
   "metadata": {},
   "source": [
    "\n",
    "\n",
    "##### Drug abuse, especially involving substances categorized under Schedule 1 and 2 of the Controlled Substances Act (CSA), poses a grave threat to public health. These drugs, which include potent stimulants, hallucinogens, and cannabinoids, have a high potential for addiction, leading to a range of social, economic, and health consequences. Addiction to such substances can result in overdose, psychiatric disorders, infectious diseases, accidents, criminal activities, and a strain on healthcare systems. The impact is felt not only by the individuals directly affected but also by their families and communities, ultimately eroding the so-called \"societal fabric\" __(McColl and Sellers, 2006)__.\n",
    "\n",
    "##### To mitigate the public health risks associated with drugs of high abuse potential, a multi-faceted approach is necessary. Public education campaigns play a pivotal role in raising awareness about the dangers of drug abuse and promoting responsible usage. Prevention programs, particularly targeting the youth, can educate individuals about the hazards of substance misuse, encouraging healthy lifestyle choices. Access control and prescription monitoring, including the implementation of prescription drug monitoring programs (PDMPs), are vital strategies to curb the misuse of such drugs, along with encouraging alternative pain management approaches to reduce over-reliance on opioids.\n",
    "\n",
    "##### Equally important is the provision of accessible treatment and rehabilitation services for those struggling with addiction. Combining law enforcement efforts and legal measures with rehabilitation ensures a balanced approach to drug abuse. Leveraging technological solutions, such as telemedicine and AI-based monitoring, can enhance intervention strategies. Moreover, international cooperation and collaboration in combatting the global drug trade are essential components of a comprehensive approach to addressing the public health implications of drugs with high abuse potential. By implementing these strategies, societies can strive towards a healthier future, minimizing the devastating impact of drug abuse on individuals and communities.\n",
    "\n",
    "## <u>References</u>\n",
    "#### McColl, S. and Sellers, E.M., 2006. Research design strategies to evaluate the impact of formulations on abuse liability. Drug and Alcohol Dependence, 83, pp.S52-S62."
   ]
  },
  {
   "cell_type": "markdown",
   "id": "f02abc35",
   "metadata": {},
   "source": [
    "# 11. __Case Study__"
   ]
  },
  {
   "cell_type": "markdown",
   "id": "f6325308",
   "metadata": {},
   "source": [
    "Choose a specific drug from the dataset. Analyze its properties, including its activity, prescription status, pregnancy category, CSA schedule, alcohol interaction, and rating. Provide a comprehensive review of the drug, including potential use cases, risks, and benefits. (20)"
   ]
  },
  {
   "cell_type": "code",
   "execution_count": 162,
   "id": "468df634",
   "metadata": {},
   "outputs": [
    {
     "data": {
      "text/html": [
       "<div>\n",
       "<style scoped>\n",
       "    .dataframe tbody tr th:only-of-type {\n",
       "        vertical-align: middle;\n",
       "    }\n",
       "\n",
       "    .dataframe tbody tr th {\n",
       "        vertical-align: top;\n",
       "    }\n",
       "\n",
       "    .dataframe thead th {\n",
       "        text-align: right;\n",
       "    }\n",
       "</style>\n",
       "<table border=\"1\" class=\"dataframe\">\n",
       "  <thead>\n",
       "    <tr style=\"text-align: right;\">\n",
       "      <th></th>\n",
       "      <th>drug_name</th>\n",
       "      <th>medical_condition</th>\n",
       "      <th>activity_percentage</th>\n",
       "      <th>rx_otc</th>\n",
       "      <th>pregnancy_category</th>\n",
       "      <th>csa</th>\n",
       "      <th>alcohol</th>\n",
       "      <th>rating</th>\n",
       "      <th>no_of_reviews</th>\n",
       "      <th>drug_link</th>\n",
       "      <th>medical_condition_description</th>\n",
       "      <th>medical_condition_url</th>\n",
       "    </tr>\n",
       "  </thead>\n",
       "  <tbody>\n",
       "    <tr>\n",
       "      <th>390025</th>\n",
       "      <td>morphine</td>\n",
       "      <td>Pain</td>\n",
       "      <td>10</td>\n",
       "      <td>Rx</td>\n",
       "      <td>C</td>\n",
       "      <td>2</td>\n",
       "      <td>X</td>\n",
       "      <td>8.0</td>\n",
       "      <td>170.0</td>\n",
       "      <td>https://www.drugs.com/morphine.html</td>\n",
       "      <td>Pain An unpleasant sensory and emotional exper...</td>\n",
       "      <td>https://www.drugs.com/condition/pain.html</td>\n",
       "    </tr>\n",
       "    <tr>\n",
       "      <th>390026</th>\n",
       "      <td>morphine</td>\n",
       "      <td>Pain</td>\n",
       "      <td>10</td>\n",
       "      <td>Rx</td>\n",
       "      <td>C</td>\n",
       "      <td>2</td>\n",
       "      <td>X</td>\n",
       "      <td>8.0</td>\n",
       "      <td>170.0</td>\n",
       "      <td>https://www.drugs.com/morphine.html</td>\n",
       "      <td>Pain An unpleasant sensory and emotional exper...</td>\n",
       "      <td>https://www.drugs.com/condition/pain.html</td>\n",
       "    </tr>\n",
       "    <tr>\n",
       "      <th>390027</th>\n",
       "      <td>morphine</td>\n",
       "      <td>Pain</td>\n",
       "      <td>10</td>\n",
       "      <td>Rx</td>\n",
       "      <td>C</td>\n",
       "      <td>2</td>\n",
       "      <td>X</td>\n",
       "      <td>8.0</td>\n",
       "      <td>170.0</td>\n",
       "      <td>https://www.drugs.com/morphine.html</td>\n",
       "      <td>Pain An unpleasant sensory and emotional exper...</td>\n",
       "      <td>https://www.drugs.com/condition/pain.html</td>\n",
       "    </tr>\n",
       "    <tr>\n",
       "      <th>390028</th>\n",
       "      <td>morphine</td>\n",
       "      <td>Pain</td>\n",
       "      <td>10</td>\n",
       "      <td>Rx</td>\n",
       "      <td>C</td>\n",
       "      <td>2</td>\n",
       "      <td>X</td>\n",
       "      <td>8.0</td>\n",
       "      <td>170.0</td>\n",
       "      <td>https://www.drugs.com/morphine.html</td>\n",
       "      <td>Pain An unpleasant sensory and emotional exper...</td>\n",
       "      <td>https://www.drugs.com/condition/pain.html</td>\n",
       "    </tr>\n",
       "    <tr>\n",
       "      <th>390029</th>\n",
       "      <td>morphine</td>\n",
       "      <td>Pain</td>\n",
       "      <td>10</td>\n",
       "      <td>Rx</td>\n",
       "      <td>C</td>\n",
       "      <td>2</td>\n",
       "      <td>X</td>\n",
       "      <td>8.0</td>\n",
       "      <td>170.0</td>\n",
       "      <td>https://www.drugs.com/morphine.html</td>\n",
       "      <td>Pain An unpleasant sensory and emotional exper...</td>\n",
       "      <td>https://www.drugs.com/condition/pain.html</td>\n",
       "    </tr>\n",
       "    <tr>\n",
       "      <th>...</th>\n",
       "      <td>...</td>\n",
       "      <td>...</td>\n",
       "      <td>...</td>\n",
       "      <td>...</td>\n",
       "      <td>...</td>\n",
       "      <td>...</td>\n",
       "      <td>...</td>\n",
       "      <td>...</td>\n",
       "      <td>...</td>\n",
       "      <td>...</td>\n",
       "      <td>...</td>\n",
       "      <td>...</td>\n",
       "    </tr>\n",
       "    <tr>\n",
       "      <th>390413</th>\n",
       "      <td>morphine</td>\n",
       "      <td>Pain</td>\n",
       "      <td>10</td>\n",
       "      <td>Rx</td>\n",
       "      <td>C</td>\n",
       "      <td>2</td>\n",
       "      <td>X</td>\n",
       "      <td>8.0</td>\n",
       "      <td>170.0</td>\n",
       "      <td>https://www.drugs.com/morphine.html</td>\n",
       "      <td>Pain An unpleasant sensory and emotional exper...</td>\n",
       "      <td>https://www.drugs.com/condition/pain.html</td>\n",
       "    </tr>\n",
       "    <tr>\n",
       "      <th>390414</th>\n",
       "      <td>morphine</td>\n",
       "      <td>Pain</td>\n",
       "      <td>10</td>\n",
       "      <td>Rx</td>\n",
       "      <td>C</td>\n",
       "      <td>2</td>\n",
       "      <td>X</td>\n",
       "      <td>8.0</td>\n",
       "      <td>170.0</td>\n",
       "      <td>https://www.drugs.com/morphine.html</td>\n",
       "      <td>Pain An unpleasant sensory and emotional exper...</td>\n",
       "      <td>https://www.drugs.com/condition/pain.html</td>\n",
       "    </tr>\n",
       "    <tr>\n",
       "      <th>390415</th>\n",
       "      <td>morphine</td>\n",
       "      <td>Pain</td>\n",
       "      <td>10</td>\n",
       "      <td>Rx</td>\n",
       "      <td>C</td>\n",
       "      <td>2</td>\n",
       "      <td>X</td>\n",
       "      <td>8.0</td>\n",
       "      <td>170.0</td>\n",
       "      <td>https://www.drugs.com/morphine.html</td>\n",
       "      <td>Pain An unpleasant sensory and emotional exper...</td>\n",
       "      <td>https://www.drugs.com/condition/pain.html</td>\n",
       "    </tr>\n",
       "    <tr>\n",
       "      <th>390416</th>\n",
       "      <td>morphine</td>\n",
       "      <td>Pain</td>\n",
       "      <td>10</td>\n",
       "      <td>Rx</td>\n",
       "      <td>C</td>\n",
       "      <td>2</td>\n",
       "      <td>X</td>\n",
       "      <td>8.0</td>\n",
       "      <td>170.0</td>\n",
       "      <td>https://www.drugs.com/morphine.html</td>\n",
       "      <td>Pain An unpleasant sensory and emotional exper...</td>\n",
       "      <td>https://www.drugs.com/condition/pain.html</td>\n",
       "    </tr>\n",
       "    <tr>\n",
       "      <th>390417</th>\n",
       "      <td>morphine</td>\n",
       "      <td>Pain</td>\n",
       "      <td>10</td>\n",
       "      <td>Rx</td>\n",
       "      <td>C</td>\n",
       "      <td>2</td>\n",
       "      <td>X</td>\n",
       "      <td>8.0</td>\n",
       "      <td>170.0</td>\n",
       "      <td>https://www.drugs.com/morphine.html</td>\n",
       "      <td>Pain An unpleasant sensory and emotional exper...</td>\n",
       "      <td>https://www.drugs.com/condition/pain.html</td>\n",
       "    </tr>\n",
       "  </tbody>\n",
       "</table>\n",
       "<p>393 rows × 12 columns</p>\n",
       "</div>"
      ],
      "text/plain": [
       "       drug_name medical_condition  activity_percentage rx_otc  \\\n",
       "390025  morphine              Pain                   10     Rx   \n",
       "390026  morphine              Pain                   10     Rx   \n",
       "390027  morphine              Pain                   10     Rx   \n",
       "390028  morphine              Pain                   10     Rx   \n",
       "390029  morphine              Pain                   10     Rx   \n",
       "...          ...               ...                  ...    ...   \n",
       "390413  morphine              Pain                   10     Rx   \n",
       "390414  morphine              Pain                   10     Rx   \n",
       "390415  morphine              Pain                   10     Rx   \n",
       "390416  morphine              Pain                   10     Rx   \n",
       "390417  morphine              Pain                   10     Rx   \n",
       "\n",
       "       pregnancy_category csa alcohol  rating  no_of_reviews  \\\n",
       "390025                  C   2       X     8.0          170.0   \n",
       "390026                  C   2       X     8.0          170.0   \n",
       "390027                  C   2       X     8.0          170.0   \n",
       "390028                  C   2       X     8.0          170.0   \n",
       "390029                  C   2       X     8.0          170.0   \n",
       "...                   ...  ..     ...     ...            ...   \n",
       "390413                  C   2       X     8.0          170.0   \n",
       "390414                  C   2       X     8.0          170.0   \n",
       "390415                  C   2       X     8.0          170.0   \n",
       "390416                  C   2       X     8.0          170.0   \n",
       "390417                  C   2       X     8.0          170.0   \n",
       "\n",
       "                                  drug_link  \\\n",
       "390025  https://www.drugs.com/morphine.html   \n",
       "390026  https://www.drugs.com/morphine.html   \n",
       "390027  https://www.drugs.com/morphine.html   \n",
       "390028  https://www.drugs.com/morphine.html   \n",
       "390029  https://www.drugs.com/morphine.html   \n",
       "...                                     ...   \n",
       "390413  https://www.drugs.com/morphine.html   \n",
       "390414  https://www.drugs.com/morphine.html   \n",
       "390415  https://www.drugs.com/morphine.html   \n",
       "390416  https://www.drugs.com/morphine.html   \n",
       "390417  https://www.drugs.com/morphine.html   \n",
       "\n",
       "                            medical_condition_description  \\\n",
       "390025  Pain An unpleasant sensory and emotional exper...   \n",
       "390026  Pain An unpleasant sensory and emotional exper...   \n",
       "390027  Pain An unpleasant sensory and emotional exper...   \n",
       "390028  Pain An unpleasant sensory and emotional exper...   \n",
       "390029  Pain An unpleasant sensory and emotional exper...   \n",
       "...                                                   ...   \n",
       "390413  Pain An unpleasant sensory and emotional exper...   \n",
       "390414  Pain An unpleasant sensory and emotional exper...   \n",
       "390415  Pain An unpleasant sensory and emotional exper...   \n",
       "390416  Pain An unpleasant sensory and emotional exper...   \n",
       "390417  Pain An unpleasant sensory and emotional exper...   \n",
       "\n",
       "                            medical_condition_url  \n",
       "390025  https://www.drugs.com/condition/pain.html  \n",
       "390026  https://www.drugs.com/condition/pain.html  \n",
       "390027  https://www.drugs.com/condition/pain.html  \n",
       "390028  https://www.drugs.com/condition/pain.html  \n",
       "390029  https://www.drugs.com/condition/pain.html  \n",
       "...                                           ...  \n",
       "390413  https://www.drugs.com/condition/pain.html  \n",
       "390414  https://www.drugs.com/condition/pain.html  \n",
       "390415  https://www.drugs.com/condition/pain.html  \n",
       "390416  https://www.drugs.com/condition/pain.html  \n",
       "390417  https://www.drugs.com/condition/pain.html  \n",
       "\n",
       "[393 rows x 12 columns]"
      ]
     },
     "execution_count": 162,
     "metadata": {},
     "output_type": "execute_result"
    }
   ],
   "source": [
    "chosen_drug = df[df['drug_name'].str.contains('morphine', case=False, na=False)]\n",
    "chosen_drug"
   ]
  },
  {
   "cell_type": "markdown",
   "id": "50042759",
   "metadata": {},
   "source": [
    "#### __The drug I have chosen is morphine__<br>\n",
    "##### Morphine is a medication that is commonly used for the management of chronic pain. It is an opioid analgesic that acts on the central nervous system to relieve pain __(Deer *et al.*, 2019)__.\n",
    "\n",
    "##### Due to its potential for abuse and addiction, it is classified under CSA schedule 2, necessitating a prescription for use. In terms of pregnancy, it falls under category C, meaning there's potential for benefits despite the risks to the fetus, but caution is advised during pregnancy. It's essential for pregnant individuals to consult their healthcare provider before using morphine. The interaction with alcohol, indicated by 'X', signifies that consuming morphine while consuming alcohol can have adverse effects or interactions, emphasizing caution when using both substances simultaneously. The high activity percentage (10) suggests that morphine is highly active in its intended use, providing potent pain relief. However, its rating of 8.0, based on user reviews, indicates that while effective, there may be some room for improvement or potential side effects, as indicated by the user feedback.\n",
    "\n",
    "##### It is administered through various means such as intravenous infusion and intrathecal delivery,and acts swiftly to alleviate pain effectively. One significant use case for morphine is in managing acute and severe pain in hospital settings, especially following major surgeries or traumatic injuries. In cancer patients, particularly those in advanced stages, morphine significantly enhances their quality of life by alleviating the excruciating pain associated with the disease. For instance, a study analyzed 147,362 hospitalizations and found that 14.1% of patients received morphine for acute decompensated heart failure (ADHF). However, it was noted that morphine usage was associated with adverse events such as greater need for mechanical ventilation, prolonged hospitalization, increased ICU admissions, and higher mortality rates __(Peacock *et al.*, 2008)__.\n",
    "\n",
    "##### Despite its efficacy, morphine carries potential risks and adverse effects. High doses or consumption alongside other respiratory-depressant substances like alcohol can cause respiratory depression. Tolerance and dependence are also known effects, necessitating careful monitoring, especially in vulnerable populations. Additionally, morphine abuse is a significant concern due to its opioid nature. Overuse or misuse can lead to addiction, impacting an individual's health and overall well-being. A study showed that morphine use was an independent predictor of mortality in ADHF patients, with an odds ratio of 4.84 (95% CI 4.52 to 5.18).\n",
    "\n",
    "##### On the positive side, morphine offers substantial benefits, primarily in the realm of pain management, significantly improving the lives of those grappling with chronic pain. However, finding the right balance between the benefits of pain relief and careful management of associated risks is crucial for healthcare providers. It is essential for healthcare professionals to educate patients about the potential risks and closely monitor its usage to mitigate abuse. Morphine, when administered responsibly, emerges as a critical tool in enhancing the quality of life for individuals dealing with debilitating pain, highlighting its importance in modern healthcare.\n",
    "\n",
    "\n",
    "### __References__\n",
    "#### Deer, T.R., Pope, J.E., Hanes, M.C. and McDowell, G.C., 2019. Intrathecal therapy for chronic pain: a review of morphine and ziconotide as firstline options. Pain Medicine, 20(4), pp.784-798.\n",
    "\n",
    "#### Peacock, W.F., Hollander, J.E., Diercks, D.B., Lopatin, M., Fonarow, G. and Emerman, C.L., 2008. Morphine and outcomes in acute decompensated heart failure: an ADHERE analysis. Emergency Medicine Journal, 25(4), pp.205-209.\n",
    "#### Van Dongen, R.T.M., Crul, B.J.P. and De Bock, M., 1993. Long-term intrathecal infusion of morphine and morphine/bupivacaine mixtures in the treatment of cancer pain: a retrospective analysis of 51 cases. Pain, 55(1), pp.119-123.\n"
   ]
  },
  {
   "cell_type": "markdown",
   "id": "b581a5ae",
   "metadata": {},
   "source": []
  }
 ],
 "metadata": {
  "kernelspec": {
   "display_name": "Python 3 (ipykernel)",
   "language": "python",
   "name": "python3"
  },
  "language_info": {
   "codemirror_mode": {
    "name": "ipython",
    "version": 3
   },
   "file_extension": ".py",
   "mimetype": "text/x-python",
   "name": "python",
   "nbconvert_exporter": "python",
   "pygments_lexer": "ipython3",
   "version": "3.11.4"
  }
 },
 "nbformat": 4,
 "nbformat_minor": 5
}
